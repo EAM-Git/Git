{
  "cells": [
    {
      "cell_type": "markdown",
      "metadata": {
        "id": "view-in-github",
        "colab_type": "text"
      },
      "source": [
        "<a href=\"https://colab.research.google.com/github/EAM-Git/Git/blob/main/projects/project-notebooks/ComparingNetworks.ipynb\" target=\"_parent\"><img src=\"https://colab.research.google.com/assets/colab-badge.svg\" alt=\"Open In Colab\"/></a>"
      ]
    },
    {
      "cell_type": "markdown",
      "metadata": {
        "execution": {},
        "id": "1-YhCPPRRG6F"
      },
      "source": [
        "<a href=\"https://colab.research.google.com/github/neuromatch/NeuroAI_Course/blob/main/projects/project-notebooks/ComparingNetworks.ipynb\" target=\"_parent\"><img src=\"https://colab.research.google.com/assets/colab-badge.svg\" alt=\"Open In Colab\"/></a> &nbsp; <a href=\"https://kaggle.com/kernels/welcome?src=https://raw.githubusercontent.com/neuromatch/NeuroAI_Course/main/projects/project-notebooks/ComparingNetworks.ipynb\" target=\"_parent\"><img src=\"https://kaggle.com/static/images/open-in-kaggle.svg\" alt=\"Open in Kaggle\"/></a>\n"
      ]
    },
    {
      "cell_type": "markdown",
      "metadata": {
        "execution": {},
        "id": "svzC8FBgRG6L"
      },
      "source": [
        "\n",
        "# Comparing networks\n",
        "\n",
        "***Comparing networks: Characterizing computational similarity in task-trained recurrent neural networks***\n",
        "\n",
        "**By Neuromatch Academy**\n",
        "\n",
        "\n",
        "__Content creators:__ Chris Versteeg\n",
        "\n",
        "__Content reviewers:__ Chris Versteeg, Hannah Choi, Eva Dyer\n",
        "\n",
        "__Production editors:__ Konstantine Tsafatinos, Ella Batty, Spiros Chavlis, Samuele Bolotta, Hlib Solodzhuk\n",
        "\n",
        "---\n"
      ]
    },
    {
      "cell_type": "markdown",
      "metadata": {
        "execution": {},
        "id": "BBvuP82VRG6M"
      },
      "source": [
        "## Background"
      ]
    },
    {
      "cell_type": "markdown",
      "metadata": {
        "execution": {},
        "id": "-fwBh8klRG6N"
      },
      "source": [
        "Researchers training artificial networks to perform tasks (e.g., image classification, motor control) have found that the activity in the artificial networks can resemble the activity of biological neurons from brain areas thought to perform similar tasks. Unfortunately, it is unclear whether a superficial similarity in neural activation necessarily translates to a conserved computational strategy. We need ways to assess how well different models are able to capture the computational principles, which will require datasets where the ground-truth computations are known, and we can analyze the similarity between artificial and natural systems. The aim of this project is to explore ways to measure alignment in dynamical systems, and to study different approaches to quantify the changes in representations across different tasks and across different architectures."
      ]
    },
    {
      "cell_type": "code",
      "execution_count": 2,
      "metadata": {
        "cellView": "form",
        "execution": {},
        "id": "HFoEWn32RG6O",
        "outputId": "7ade9d4d-59f7-4010-cdcd-572a6dfbf9fa",
        "colab": {
          "base_uri": "https://localhost:8080/"
        }
      },
      "outputs": [
        {
          "output_type": "stream",
          "name": "stdout",
          "text": [
            "  Preparing metadata (setup.py) ... \u001b[?25l\u001b[?25hdone\n",
            "  Preparing metadata (setup.py) ... \u001b[?25l\u001b[?25hdone\n",
            "\u001b[2K   \u001b[90m━━━━━━━━━━━━━━━━━━━━━━━━━━━━━━━━━━━━━━━━\u001b[0m \u001b[32m1.6/1.6 MB\u001b[0m \u001b[31m20.3 MB/s\u001b[0m eta \u001b[36m0:00:00\u001b[0m\n",
            "\u001b[?25h  Building wheel for vibecheck (setup.py) ... \u001b[?25l\u001b[?25hdone\n",
            "  Building wheel for datatops (setup.py) ... \u001b[?25l\u001b[?25hdone\n"
          ]
        }
      ],
      "source": [
        "# @title Install and import feedback gadget\n",
        "\n",
        "!pip install vibecheck datatops --quiet\n",
        "\n",
        "from vibecheck import DatatopsContentReviewContainer\n",
        "def content_review(notebook_section: str):\n",
        "    return DatatopsContentReviewContainer(\n",
        "        \"\",  # No text prompt\n",
        "        notebook_section,\n",
        "        {\n",
        "            \"url\": \"https://pmyvdlilci.execute-api.us-east-1.amazonaws.com/klab\",\n",
        "            \"name\": \"neuromatch_neuroai\",\n",
        "            \"user_key\": \"wb2cxze8\",\n",
        "        },\n",
        "    ).render()\n",
        "\n",
        "feedback_prefix = \"Project_ComparingNetworks\""
      ]
    },
    {
      "cell_type": "code",
      "execution_count": 3,
      "metadata": {
        "cellView": "form",
        "execution": {},
        "id": "RCG4zortRG6Q",
        "outputId": "9ef1e691-632b-4e36-a11f-7b2a6e52f7e7",
        "colab": {
          "base_uri": "https://localhost:8080/",
          "height": 581,
          "referenced_widgets": [
            "5f54b54b4d16419c9aa14a9546a7b6ce",
            "eba7e68670324d7594160fccf50251f4",
            "22a9389f134544648529d74b8806cb53",
            "329d2495aa874b3ea16c82ade4ceb62a",
            "a325a29e2b6c450eba0ba1f22b2be21a",
            "0c53f23d4b1c472f871199b641e6c045"
          ]
        }
      },
      "outputs": [
        {
          "output_type": "display_data",
          "data": {
            "text/plain": [
              "Tab(children=(Output(), Output()), _titles={'0': 'Youtube', '1': 'Bilibili'})"
            ],
            "application/vnd.jupyter.widget-view+json": {
              "version_major": 2,
              "version_minor": 0,
              "model_id": "5f54b54b4d16419c9aa14a9546a7b6ce"
            }
          },
          "metadata": {}
        }
      ],
      "source": [
        "# @title Project Background\n",
        "\n",
        "from ipywidgets import widgets\n",
        "from IPython.display import YouTubeVideo\n",
        "from IPython.display import IFrame\n",
        "from IPython.display import display\n",
        "\n",
        "\n",
        "class PlayVideo(IFrame):\n",
        "  def __init__(self, id, source, page=1, width=400, height=300, **kwargs):\n",
        "    self.id = id\n",
        "    if source == 'Bilibili':\n",
        "      src = f'https://player.bilibili.com/player.html?bvid={id}&page={page}'\n",
        "    elif source == 'Osf':\n",
        "      src = f'https://mfr.ca-1.osf.io/render?url=https://osf.io/download/{id}/?direct%26mode=render'\n",
        "    super(PlayVideo, self).__init__(src, width, height, **kwargs)\n",
        "\n",
        "\n",
        "def display_videos(video_ids, W=400, H=300, fs=1):\n",
        "  tab_contents = []\n",
        "  for i, video_id in enumerate(video_ids):\n",
        "    out = widgets.Output()\n",
        "    with out:\n",
        "      if video_ids[i][0] == 'Youtube':\n",
        "        video = YouTubeVideo(id=video_ids[i][1], width=W,\n",
        "                             height=H, fs=fs, rel=0)\n",
        "        print(f'Video available at https://youtube.com/watch?v={video.id}')\n",
        "      else:\n",
        "        video = PlayVideo(id=video_ids[i][1], source=video_ids[i][0], width=W,\n",
        "                          height=H, fs=fs, autoplay=False)\n",
        "        if video_ids[i][0] == 'Bilibili':\n",
        "          print(f'Video available at https://www.bilibili.com/video/{video.id}')\n",
        "        elif video_ids[i][0] == 'Osf':\n",
        "          print(f'Video available at https://osf.io/{video.id}')\n",
        "      display(video)\n",
        "    tab_contents.append(out)\n",
        "  return tab_contents\n",
        "\n",
        "\n",
        "video_ids = [('Youtube', 'KpXu34cvWPE'), ('Bilibili', 'BV1qJ4m1g7nR')]\n",
        "tab_contents = display_videos(video_ids, W=854, H=480)\n",
        "tabs = widgets.Tab()\n",
        "tabs.children = tab_contents\n",
        "for i in range(len(tab_contents)):\n",
        "  tabs.set_title(i, video_ids[i][0])\n",
        "display(tabs)"
      ]
    },
    {
      "cell_type": "code",
      "execution_count": 4,
      "metadata": {
        "cellView": "form",
        "execution": {},
        "id": "Md3VlbPPRG6S",
        "outputId": "d41bc70c-57ac-4de6-f157-63f88ed3f5ea",
        "colab": {
          "base_uri": "https://localhost:8080/",
          "height": 62,
          "referenced_widgets": [
            "81aee6fda5524fc687d78c6eb8a41791",
            "e1b89d4a8a194afdaeedbdd43216b578",
            "4e86b863569b406588b8dd29bca89877",
            "76654febcc7f4c7c982b1500351ce220",
            "33df851c3e7f4957995f705bf8b20aa4",
            "8e365d12f2ce451c9089014ac16279e1",
            "b919789dbbd14ea38a775a8b5a2a8722",
            "03123a6a497e44399adff5fd01377cf2",
            "32ee6412e6f04ec3859ddf776dcfc622",
            "e1ea75f4413941d0b0e6b9a017e43377",
            "616b42e3127d401baa44efb9dcf12087",
            "b188ed4d410b4316a332037cb334ddad",
            "ed12df6ad49a4ad79c36376583c7f095",
            "eeaa10294d174a7caa19da9c8b193da1",
            "f6c8b0069a304fed9b6e8a2fc96ac00e",
            "4d5f3b9d93c74a50ace773bc9b8261b5",
            "c22a470a263b4f80809a20167226aadd",
            "17cb558dab9f464a911b112962a2c045",
            "9570b628b86d480fad4abe7f5a82f2af",
            "78fb2e2c80f14abb94255df072fc289b",
            "8616a98e040e4c96a76e15993c613377",
            "f1f3184b7d2445088e46b529f63f7e35",
            "69ea9a9a2a8641018649088fd9e097d9",
            "6e018c7b021c42fdb6924a78964dbe86",
            "75054cf6507548629dbcf5bcd400d070",
            "5ea2bfb34b4345edaa06fac7a551703e"
          ]
        }
      },
      "outputs": [
        {
          "output_type": "display_data",
          "data": {
            "text/plain": [
              "VBox(children=(VBox(children=(HBox(children=(Button(description='🙂', layout=Layout(height='auto', padding='0.5…"
            ],
            "application/vnd.jupyter.widget-view+json": {
              "version_major": 2,
              "version_minor": 0,
              "model_id": "81aee6fda5524fc687d78c6eb8a41791"
            }
          },
          "metadata": {}
        }
      ],
      "source": [
        "# @title Submit your feedback\n",
        "content_review(f\"{feedback_prefix}_project_background\")"
      ]
    },
    {
      "cell_type": "code",
      "execution_count": 5,
      "metadata": {
        "cellView": "form",
        "execution": {},
        "id": "HqxpP6YURG6S",
        "outputId": "0b1eb2c7-ad37-4c29-e633-920f9dbda52c",
        "colab": {
          "base_uri": "https://localhost:8080/",
          "height": 519
        }
      },
      "outputs": [
        {
          "output_type": "stream",
          "name": "stdout",
          "text": [
            "If you want to download the slides: https://osf.io/download/vb3tw/\n"
          ]
        },
        {
          "output_type": "execute_result",
          "data": {
            "text/plain": [
              "<IPython.lib.display.IFrame at 0x7975f5615910>"
            ],
            "text/html": [
              "\n",
              "        <iframe\n",
              "            width=\"854\"\n",
              "            height=\"480\"\n",
              "            src=\"https://mfr.ca-1.osf.io/render?url=https://osf.io/download/vb3tw/?direct%26mode=render\"\n",
              "            frameborder=\"0\"\n",
              "            allowfullscreen\n",
              "            \n",
              "        ></iframe>\n",
              "        "
            ]
          },
          "metadata": {},
          "execution_count": 5
        }
      ],
      "source": [
        "# @title Project slides\n",
        "\n",
        "from IPython.display import IFrame\n",
        "print(\"If you want to download the slides: https://osf.io/download/vb3tw/\")\n",
        "IFrame(src=\"https://mfr.ca-1.osf.io/render?url=https://osf.io/download/vb3tw/?direct%26mode=render\", width=854, height=480)"
      ]
    },
    {
      "cell_type": "code",
      "execution_count": 6,
      "metadata": {
        "cellView": "form",
        "execution": {},
        "id": "pHL_iefMRG6T",
        "outputId": "a1e09706-1fdc-4577-9af1-f500203331c0",
        "colab": {
          "base_uri": "https://localhost:8080/",
          "height": 1000
        }
      },
      "outputs": [
        {
          "output_type": "display_data",
          "data": {
            "text/html": [
              "<img src=\"https://github.com/neuromatch/NeuroAI_Course/blob/main/projects/project-notebooks/static/ComputationalSimilarityTemplate.png?raw=true\"/>"
            ],
            "text/plain": [
              "<IPython.core.display.Image object>"
            ]
          },
          "metadata": {}
        }
      ],
      "source": [
        "#@title Project Template\n",
        "from IPython.display import Image, display\n",
        "import os\n",
        "from pathlib import Path\n",
        "\n",
        "url = \"https://github.com/neuromatch/NeuroAI_Course/blob/main/projects/project-notebooks/static/ComputationalSimilarityTemplate.png?raw=true\"\n",
        "\n",
        "display(Image(url=url))"
      ]
    },
    {
      "cell_type": "code",
      "execution_count": 7,
      "metadata": {
        "cellView": "form",
        "execution": {},
        "id": "PrGxIVszRG6U",
        "outputId": "4f337b7a-d4e3-4b0e-d544-94f7bcef3dcb",
        "colab": {
          "base_uri": "https://localhost:8080/",
          "height": 62,
          "referenced_widgets": [
            "bfaccfed19ab470a981ac07319fd5b83",
            "e88c893e87ff4c5a9b4267d0182514a3",
            "0d82394665d74d96b53bcfd42fbbe292",
            "2b66fbc9343f428c989ecdf9beaf61ce",
            "a9c5ae918a154d5f9ebe29ffd006314d",
            "d0e35355953b474cb1041005e59958ac",
            "b2383fc0f07c4578a4114ea637db2f0f",
            "f43c7cf3ca104f21b1ad9b29fc286af7",
            "089d0e5785794cdd87ab2d10e68fea8d",
            "3e7fb9ddc6df4a8ebb9eb98f5551576a",
            "a5c4f89e8fe641eabb8791dbda0198af",
            "ba0caf9628af4ca8b4b58e89beaa9129",
            "6c6af1bb5a1a43ad8ab8daff4d05b88a",
            "7401c1015806488f8b696a2f97f6aa4b",
            "c0aab6c9c4ba4c6986fb3f317370c66e",
            "49693cf4611c4925b7d8e0483ff886c1",
            "38719e20784f47669aad226a98380d9f",
            "ce60eb2a570d4dfeba29ec2441e1b334",
            "d80d07c1661548dbbb0f28db80dcd262",
            "b9d63e8feb9e4213bebe69ed1afa656c",
            "8231f2c26b9a40988d2eace47b34e224",
            "1107337572704316913a505ecd217083",
            "41864349db7c491a93bab49a23478315",
            "76c50e9cd05942fabf775f0c3bd1cae4",
            "76d596ff37a647ed994b48abedb5e6e1",
            "69988bff90df4ad08a01b88731297205"
          ]
        }
      },
      "outputs": [
        {
          "output_type": "display_data",
          "data": {
            "text/plain": [
              "VBox(children=(VBox(children=(HBox(children=(Button(description='🙂', layout=Layout(height='auto', padding='0.5…"
            ],
            "application/vnd.jupyter.widget-view+json": {
              "version_major": 2,
              "version_minor": 0,
              "model_id": "bfaccfed19ab470a981ac07319fd5b83"
            }
          },
          "metadata": {}
        }
      ],
      "source": [
        "# @title Submit your feedback\n",
        "content_review(f\"{feedback_prefix}_project_template\")"
      ]
    },
    {
      "cell_type": "markdown",
      "metadata": {
        "execution": {},
        "id": "4VVmLpcERG6U"
      },
      "source": [
        "In this notebook, we are going to provide code to get you started on Q1-Q3 of this project!\n",
        "\n",
        "The basic outline looks like this:\n",
        "\n",
        "- Section 1: Preparing the environment.\n",
        "- Section 2: Overview of the available tasks.\n",
        "- Section 3: Understanding the Three-Bit Flip-Flop task (3BFF).\n",
        "- Section 4: Training a model to perform 3BFF.\n",
        "- Section 5: Inspecting the performance of trained models.\n",
        "    - Part 1: Visualizing latent activity\n",
        "    - Part 2: Quantifying latent similarity with State R2.\n",
        "    - Part 3: Visualizing Fixed-Point architectures.\n",
        "- Section 6: Introduction to Random Target task.\n",
        "\n",
        "**Importantly, we've put landmarks in the notebook to indicate**:\n",
        "\n",
        "*Interactive exercises*\n",
        "\n",
        "❓❓❓\n",
        "\n",
        "\n",
        "*Cells that will a decent amount of time to run (>5 mins)*\n",
        "\n",
        "⏳⏳⏳"
      ]
    },
    {
      "cell_type": "markdown",
      "metadata": {
        "execution": {},
        "id": "SQVyTYHDRG6V"
      },
      "source": [
        "**Tutorial links**\n",
        "\n",
        " This project is mostly associated with the materials presented in [**W1D3**](https://neuroai.neuromatch.io/tutorials/W1D3_ComparingArtificialAndBiologicalNetworks/student/W1D3_Intro.html), on comparing activities of artificial and biological networks. One of the main techniques here, DSA, completes and empowers your toolbox by enabling dynamic analysis of activity patterns. You will find the [Tutorial 2](https://neuroai.neuromatch.io/tutorials/W1D1_Generalization/student/W1D1_Tutorial2.html) from the **W1D1** the most similar by the model's architecture and the idea of goal-oriented networks."
      ]
    },
    {
      "cell_type": "markdown",
      "metadata": {
        "execution": {},
        "id": "mqYTrp3URG6W"
      },
      "source": [
        "---\n",
        "## Section 1: Preparing the environment\n",
        "\n",
        "Disclaimer: As an alternative to Google Colab, Kaggle, and local installation, we have prepared a Dockerfile with the instructions on the virtual environment setup. It will allow you to work locally with no interventions into already installed packages (you will just need to install Docker and run two commands). Grab a [Dockerfile](https://osf.io/b4yfa), put it in the same folder as this notebook, and follow the instructions in [README](https://osf.io/qtezf) file.\n",
        "\n",
        "**IF USING COLAB // KAGGLE**:\n",
        "\n",
        "Uncomment the lines of code below and run them in order. The top, the second, and the last cells only need to be run once, but **the third cells (envStr) need to be re-run if the Colab // Kaggle notebook crashes**. These blocks install the needed dependencies and set up your environment. Notice that the first and third cell contents depend on whether you use Colab or Kaggle.\n",
        "\n",
        "⏳⏳⏳"
      ]
    },
    {
      "cell_type": "code",
      "execution_count": 8,
      "metadata": {
        "cellView": "form",
        "execution": {},
        "id": "v4oPMP39RG6W"
      },
      "outputs": [],
      "source": [
        "# @markdown Colab // Kaggle installation (Part 1)\n",
        "\n",
        "# ! git clone https://github.com/neuromatch/ComputationThruDynamicsBenchmark\n",
        "# %cd ComputationThruDynamicsBenchmark\n",
        "# ! pip install -e .\n",
        "\n",
        "## RUN THIS CELL, THEN RESTART SESSION AS PROMPTED (BUTTON AT BOTTOM OF THIS CELL'S FINISHED OUTPUT). DO NOT NEED TO RUN AGAIN\n",
        "## PLEASE RESTART THE ENVIRONMENT FOR KAGGLE MANUALLY (Run > Restart & clear cell outputs)"
      ]
    },
    {
      "cell_type": "code",
      "execution_count": 9,
      "metadata": {
        "cellView": "form",
        "execution": {},
        "id": "RRfi0QnSRG6X"
      },
      "outputs": [],
      "source": [
        "# @markdown Colab // Kaggle installation (Part 2)\n",
        "\n",
        "# !pip uninstall -y torchaudio torchvision"
      ]
    },
    {
      "cell_type": "code",
      "execution_count": 10,
      "metadata": {
        "cellView": "form",
        "execution": {},
        "id": "YSo7Eb6aRG6X"
      },
      "outputs": [],
      "source": [
        "# @markdown Colab // Kaggle installation (Part 3)\n",
        "\n",
        "## GET BACK TO THE DIRECTORY AND CONFIGURE .env\n",
        "\n",
        "################ COLAB #####################\n",
        "\n",
        "# %cd /content/ComputationThruDynamicsBenchmark/\n",
        "# envStr = \"\"\"HOME_DIR=/content/ComputationThruDynamicsBenchmark/\n",
        "# #Don't change these\n",
        "# TRAIN_INPUT_FILE=train_input.h5\\nEVAL_INPUT_FILE=eval_input.h5\n",
        "# EVAL_TARGET_FILE=eval_target.h5\n",
        "# \"\"\"\n",
        "\n",
        "#############################################\n",
        "\n",
        "################ KAGGLE #####################\n",
        "\n",
        "# %cd /kaggle/working/ComputationThruDynamicsBenchmark/\n",
        "# envStr = \"\"\"HOME_DIR=/kaggle/working/ComputationThruDynamicsBenchmark/\n",
        "# #Don't change these\n",
        "# TRAIN_INPUT_FILE=train_input.h5\\nEVAL_INPUT_FILE=eval_input.h5\n",
        "# EVAL_TARGET_FILE=eval_target.h5\n",
        "# \"\"\"\n",
        "\n",
        "##############################################\n",
        "\n",
        "################ COLAB // KAGGLE #####################\n",
        "\n",
        "# with open('.env','w') as f:\n",
        "#   f.write(envStr)\n",
        "\n",
        "##############################################"
      ]
    },
    {
      "cell_type": "code",
      "execution_count": 11,
      "metadata": {
        "cellView": "form",
        "execution": {},
        "id": "pnlnhTRCRG6X"
      },
      "outputs": [],
      "source": [
        "# @markdown Colab // Kaggle installation (Part 4)\n",
        "\n",
        "# !git clone https://github.com/mitchellostrow/DSA\n",
        "# %cd DSA/\n",
        "# !pip install -e ."
      ]
    },
    {
      "cell_type": "markdown",
      "metadata": {
        "execution": {},
        "id": "5s_5Fn8KRG6Y"
      },
      "source": [
        "**IF RUNNING LOCALLY**:\n",
        "\n",
        "Follow the instructions [here](https://github.com/snel-repo/ComputationThruDynamicsBenchmark) to setup the separate environment for this project, or you can run the cell below for general installment."
      ]
    },
    {
      "cell_type": "code",
      "execution_count": null,
      "metadata": {
        "cellView": "form",
        "execution": {},
        "id": "OCacPVHlRG6Y"
      },
      "outputs": [],
      "source": [
        "# @markdown Local installation\n",
        "\n",
        "import contextlib\n",
        "import io\n",
        "import os\n",
        "\n",
        "dirname = \"ComputationThruDynamicsBenchmark\"\n",
        "\n",
        "with contextlib.redirect_stdout(io.StringIO()): #to suppress output\n",
        "    if not os.path.isdir(dirname):\n",
        "        ! git clone https://github.com/neuromatch/ComputationThruDynamicsBenchmark\n",
        "        %cd ComputationThruDynamicsBenchmark\n",
        "        ! pip install -e .\n",
        "\n",
        "envStr = \"\"\"HOME_DIR=ComputationThruDynamicsBenchmark/\n",
        "\n",
        "\n",
        "#Don't change these\n",
        "TRAIN_INPUT_FILE=train_input.h5\\nEVAL_INPUT_FILE=eval_input.h5\n",
        "EVAL_TARGET_FILE=eval_target.h5\n",
        "\"\"\"\n",
        "\n",
        "with open('.env','w') as f:\n",
        "  f.write(envStr)"
      ]
    },
    {
      "cell_type": "code",
      "execution_count": null,
      "metadata": {
        "cellView": "form",
        "execution": {},
        "id": "_ErSYknKRG6Z"
      },
      "outputs": [],
      "source": [
        "# @title Submit your feedback\n",
        "content_review(f\"{feedback_prefix}_preparing_environment\")"
      ]
    },
    {
      "cell_type": "markdown",
      "metadata": {
        "execution": {},
        "id": "EZmkz7dNRG6Z"
      },
      "source": [
        "---\n",
        "## Section 2: Overview of the available tasks\n",
        "\n",
        "First, let's take a high-level look at the tasks that we are going to use to understand computation in artificial networks!\n",
        "\n",
        "We'll start by loading in some packages."
      ]
    },
    {
      "cell_type": "code",
      "execution_count": null,
      "metadata": {
        "execution": {},
        "id": "LZVk-ZGaRG6Z"
      },
      "outputs": [],
      "source": [
        "# set the random seed for reproducibility\n",
        "import random\n",
        "import dotenv\n",
        "import pathlib\n",
        "import os\n",
        "import logging\n",
        "\n",
        "# comment the next three lines if you want to see all training logs\n",
        "pl_loggers = [logging.getLogger(name) for name in logging.root.manager.loggerDict if 'pytorch_lightning' in name]\n",
        "for pl_log in pl_loggers:\n",
        "    logging.getLogger(pl_log.name).setLevel(logging.WARNING)\n",
        "\n",
        "random.seed(2024)\n",
        "\n",
        "dotenv.load_dotenv(override=True)\n",
        "HOME_DIR = os.getenv(\"HOME_DIR\")\n",
        "if HOME_DIR is None:\n",
        "    HOME_DIR = \"\"\n",
        "print(HOME_DIR)"
      ]
    },
    {
      "cell_type": "markdown",
      "metadata": {
        "execution": {},
        "id": "LYCtW5vYRG6a"
      },
      "source": [
        "The Computation-Thru-Dynamics Benchmark has three distinct behavioral tasks.\n",
        "\n",
        "These tasks are called:\n",
        "1. Three-Bit Flip-Flop (3BFF) (see [Sussillo & Barak 2013](https://pubmed.ncbi.nlm.nih.gov/23272922/))\n",
        "2. MultiTask (See [Driscoll et al. 2023](https://www.biorxiv.org/content/10.1101/2022.08.15.503870v1.full.pdf))\n",
        "3. RandomTarget (See [Codol et al. 2023](https://elifesciences.org/reviewed-preprints/88591v2/reviews))\n",
        "\n",
        "We chose these tasks because they represent a variety of task complexities. We have a pretty good understanding of how the simpler tasks operate (3BFF), but really are only starting to scratch the surface of more complex tasks (RandomTarget).\n",
        "\n",
        "Specificially, in the Random Target task, the actions that the model takes can affect the future inputs, making it an important test case for being able to understand the dynamics of interacting systems!\n",
        "\n",
        "<img src=\"https://github.com/neuromatch/NeuroAI_Course/blob/main/projects/project-notebooks/static/TaskComplexity-01.png?raw=true\" width=\"600\"/>\n",
        "\n",
        "Each task (which we call a \"task environment\") follows a standardized format that allows alternative task environments to be incorporated without any changes to the training pipeline.\n",
        "\n",
        "Here, we'll take a walk through the two tasks in the project template (TBFF and RandomTarget) and inspect the behavior of networks trained in these environments."
      ]
    },
    {
      "cell_type": "code",
      "execution_count": null,
      "metadata": {
        "cellView": "form",
        "execution": {},
        "id": "XgGXwFRzRG6a"
      },
      "outputs": [],
      "source": [
        "# @title Submit your feedback\n",
        "content_review(f\"{feedback_prefix}_overview_of_the_available_tasks\")"
      ]
    },
    {
      "cell_type": "markdown",
      "metadata": {
        "execution": {},
        "id": "O-eyCiADRG6b"
      },
      "source": [
        "---\n",
        "## Section 3: Understanding the Three-Bit Flip-Flop task (3BFF)\n",
        "\n",
        "We're going to start out with the task that launched a thousand Nature papers, the 3-Bit Flip-Flop. [Sussillo & Barak 2013](https://pubmed.ncbi.nlm.nih.gov/23272922/) used the three-bit flip-flop in their seminal attempts to understand how dynamics can give rise to computation!\n",
        "\n",
        "The code snippet below instantiates a \"TaskEnv\" object, which contains the logic for the NBFF task.\n",
        "\n",
        "\n",
        "❓❓❓\n",
        "\n",
        "The default parameters are shown in `./interpretability/task_modeling/configs/env_task/NBFF.yaml`, but try changing the parameters below to see how that affects trials generated from the environment. Note that this task is modular in the number of bits as well, so it provides an easy way to scale the dimensionality of a very simple dynamical system.\n",
        "\n",
        "❓❓❓"
      ]
    },
    {
      "cell_type": "code",
      "execution_count": null,
      "metadata": {
        "execution": {},
        "id": "hSal4UZjRG6b"
      },
      "outputs": [],
      "source": [
        "from ctd.task_modeling.task_env.task_env import NBitFlipFlop\n",
        "\n",
        "n = 3 # The number of bits in the flip-flop (default: 3)\n",
        "trial_length = 500 # The number of time steps in each trial (default: 500)\n",
        "switch_prob = 0.015 # The probability of an input pulse (default: 0.015 pulses/channel / time step)\n",
        "noise = 0.15 # The standard deviation of the Gaussian noise added to the input (default: 0.15)\n",
        "\n",
        "# This line creates the NBitFlipFlop environment. See ctd.task_modeling.task_env.task_env.NBitFlipFlop for more information.\n",
        "env_3bff = NBitFlipFlop(\n",
        "    n = n,\n",
        "    n_timesteps=trial_length,\n",
        "    switch_prob=switch_prob,\n",
        "    noise=noise\n",
        "    )\n",
        "\n",
        "# Renders a random trial from the environment\n",
        "env_3bff.render()"
      ]
    },
    {
      "cell_type": "markdown",
      "metadata": {
        "execution": {},
        "id": "n8Zws15HRG6b"
      },
      "source": [
        "Above, we are plotting the inputs and outputs of the 3BFF task. One trial is 500 time steps, each with a 1% probability of getting an \"up\" or \"down\" pulse on each of its 3 input channels. When the task receives an \"up\" pulse, the state corresponding to that input channel moves from zero to one (if possible), and if a state at one receives a \"down\" pulse, it goes to zero. In this way, this system acts as 3 bits of memory, encoding 8 potential system states (2^3 states). We add noise to the inputs of the system so that it better reflects realistic computations that a neural circuit might perform.\n",
        "\n",
        "\n",
        "**Try changing the parameters of your 3BFF environment to see how the behavior changes!**\n",
        "\n",
        "Another way to visualize this is to view the three states in 3D. Below, you can see that the 8 potential states appear as the vertices of a cube. Each trial is plotted as a column."
      ]
    },
    {
      "cell_type": "code",
      "execution_count": null,
      "metadata": {
        "execution": {},
        "id": "rBBbc5zORG6b"
      },
      "outputs": [],
      "source": [
        "env_3bff.render_3d(n_trials=6)"
      ]
    },
    {
      "cell_type": "markdown",
      "metadata": {
        "execution": {},
        "id": "eo1graERRG6c"
      },
      "source": [
        "Now that we can see the basic logic of the task, let's do a basic overview of what task training is!\n",
        "\n",
        "<img src=\"https://github.com/neuromatch/NeuroAI_Course/blob/main/projects/project-notebooks/static/TTModelExample-01.png?raw=true\" width=\"600\"/>\n",
        "\n",
        "For task-training, we are simply training a model (e.g., an RNN) to produce a set of outputs given a set of inputs. This input/output relationship defines the task that the model is performing. In the case of 3BFF, an input pulse should cause the model's output to change in a way that reflects the switching of a bit.\n",
        "\n",
        "**3BFF Training Objective:**\n",
        "\n",
        "3BFF models are trained to minimize the MSE between the desired output and the output of the model, with some other components that pressure the solution to be smooth. If you're interested in the specifics, the implementation of the loss function can be found as the NBFFLoss object in `ctd/task_modeling/task_env/loss_func.py`."
      ]
    },
    {
      "cell_type": "code",
      "execution_count": null,
      "metadata": {
        "cellView": "form",
        "execution": {},
        "id": "Z_JMceNlRG6c"
      },
      "outputs": [],
      "source": [
        "# @title Submit your feedback\n",
        "content_review(f\"{feedback_prefix}_understanding_3bff\")"
      ]
    },
    {
      "cell_type": "markdown",
      "metadata": {
        "execution": {},
        "id": "NB75Q0inRG6c"
      },
      "source": [
        "\n",
        "## Section 4: Training a model to perform 3BFF\n",
        "\n",
        "For this tutorial, we are using PyTorch Lightning to abstract much of the engineering away, allowing you to focus your full attention on the scientific questions you want to tackle!\n",
        "\n",
        "This segment takes around 8 minutes to train, so I'd recommend planning your runs accordingly!\n",
        "\n",
        "⏳⏳⏳\n",
        "\n",
        "The cell below will create a recurrent neural network (RNN) model and use the 3BFF environment to generate samples on which the model will be trained!\n",
        "\n",
        "Unfortunately, it generates a lot of output, so if you don't care to see the model progress, set `enable_progress_bar` to False below."
      ]
    },
    {
      "cell_type": "code",
      "execution_count": null,
      "metadata": {
        "execution": {},
        "id": "TvLC_Q-qRG6c"
      },
      "outputs": [],
      "source": [
        "from ctd.task_modeling.model.rnn import GRU_RNN\n",
        "from ctd.task_modeling.datamodule.task_datamodule import TaskDataModule\n",
        "from ctd.task_modeling.task_wrapper.task_wrapper import TaskTrainedWrapper\n",
        "from pytorch_lightning import Trainer\n",
        "\n",
        "enable_progress_bar = False\n",
        "\n",
        "# Step 1: Instantiate the model\n",
        "rnn = GRU_RNN(latent_size = 128) # Look in ctd/task_modeling/models for alternative choices!\n",
        "\n",
        "# Step 2: Instantiate the task environment\n",
        "task_env = env_3bff\n",
        "\n",
        "# Step 3: Instantiate the task datamodule\n",
        "task_datamodule = TaskDataModule(task_env, n_samples = 1000, batch_size = 1000)\n",
        "\n",
        "# Step 4: Instantiate the task wrapper\n",
        "task_wrapper = TaskTrainedWrapper(learning_rate=1e-3, weight_decay = 1e-8)\n",
        "\n",
        "# Step 5: Initialize the model with the input and output sizes (3 inputs, 3 outputs, in this case)\n",
        "rnn.init_model(\n",
        "    input_size = task_env.observation_space.shape[0],\n",
        "    output_size = task_env.action_space.shape[0]\n",
        "    )\n",
        "\n",
        "# Step 6:  Set the environment and model in the task wrapper\n",
        "task_wrapper.set_environment(task_env)\n",
        "task_wrapper.set_model(rnn)\n",
        "\n",
        "# Step 7: Define the PyTorch Lightning Trainer object\n",
        "trainer = Trainer(max_epochs=500, enable_progress_bar=enable_progress_bar)\n",
        "\n",
        "# Step 8: Fit the model\n",
        "trainer.fit(task_wrapper, task_datamodule)"
      ]
    },
    {
      "cell_type": "markdown",
      "metadata": {
        "execution": {},
        "id": "EUInDXuyRG6d"
      },
      "source": [
        "Now, we use `pickle` to save the trained model and datamodule for future analyses!\n",
        "\n",
        "❓❓❓\n",
        "\n",
        "**Once you get this model trained, feel free to try changing the hyperparameters to see if you can get the model to train faster!**\n",
        "\n",
        "❓❓❓"
      ]
    },
    {
      "cell_type": "code",
      "execution_count": null,
      "metadata": {
        "execution": {},
        "id": "BDQYBY7HRG6d"
      },
      "outputs": [],
      "source": [
        "import pickle\n",
        "# save model as .pkl\n",
        "save_dir = pathlib.Path(HOME_DIR) / \"models_GRU_128\"\n",
        "save_dir.mkdir(exist_ok=True)\n",
        "with open(save_dir / \"model.pkl\", \"wb\") as f:\n",
        "    pickle.dump(task_wrapper, f)\n",
        "\n",
        "# save datamodule as .pkl\n",
        "with open(save_dir / \"datamodule_sim.pkl\", \"wb\") as f:\n",
        "    pickle.dump(task_datamodule, f)"
      ]
    },
    {
      "cell_type": "markdown",
      "metadata": {
        "execution": {},
        "id": "wWPIGafWRG6d"
      },
      "source": [
        "So that we can start comparing our models, we're going to train a second GRU_RNN to perform the 3BFF task, except this time, we'll use an alternative model called a Neural ODE!\n",
        "\n",
        "Notice that we're using the same datamodule as for the first model, meaning that we can directly compare the two models trial-by-trial.\n",
        "\n",
        "Again, this will take around 10 minutes to train!\n",
        "\n",
        "⏳⏳⏳"
      ]
    },
    {
      "cell_type": "code",
      "execution_count": null,
      "metadata": {
        "execution": {},
        "id": "CsUxX7G9RG6e"
      },
      "outputs": [],
      "source": [
        "from ctd.task_modeling.model.node import NODE\n",
        "enable_progress_bar = False\n",
        "rnn = NODE(latent_size = 3, num_layers = 3, layer_hidden_size=64) # Look in ctd/task_modeling/models for alternative choices!\n",
        "task_wrapper = TaskTrainedWrapper(learning_rate=1e-3, weight_decay = 1e-10)\n",
        "rnn.init_model(\n",
        "    input_size = task_env.observation_space.shape[0],\n",
        "    output_size = task_env.action_space.shape[0]\n",
        "    )\n",
        "task_wrapper.set_environment(task_env)\n",
        "task_wrapper.set_model(rnn)\n",
        "trainer = Trainer(max_epochs=500, enable_progress_bar=enable_progress_bar)\n",
        "\n",
        "trainer.fit(task_wrapper, task_datamodule)\n",
        "\n",
        "save_dir = pathlib.Path(HOME_DIR) / \"models_NODE_3\"\n",
        "save_dir.mkdir(exist_ok=True)\n",
        "with open(save_dir / \"model.pkl\", \"wb\") as f:\n",
        "    pickle.dump(task_wrapper, f)\n",
        "\n",
        "# save datamodule as .pkl\n",
        "with open(save_dir / \"datamodule_sim.pkl\", \"wb\") as f:\n",
        "    pickle.dump(task_datamodule, f)"
      ]
    },
    {
      "cell_type": "code",
      "execution_count": null,
      "metadata": {
        "cellView": "form",
        "execution": {},
        "id": "c00OOH8JRG6e"
      },
      "outputs": [],
      "source": [
        "# @title Submit your feedback\n",
        "content_review(f\"{feedback_prefix}_training_a_model_to_perform_3bff\")"
      ]
    },
    {
      "cell_type": "markdown",
      "metadata": {
        "execution": {},
        "id": "LtYf1ssMRG6e"
      },
      "source": [
        "## Section 5: Inspecting the performance of trained models\n",
        "\n",
        "Now that the models have been trained, let's see if we can determine how similar their computational strategies are to each other!\n",
        "\n",
        "To make your life easier, we've provided an \"analysis\" object that abstracts away much of the data handling, allowing you to work more easily with the data from the models.\n",
        "\n",
        "The analysis object also offers visualization tools that can help to see how well the trained model learned to perform the task!\n",
        "\n",
        "For example, plot_trial_io is a function that plots (for a specified number of trials):\n",
        "- Latent activity\n",
        "- Controlled output\n",
        "- Target output\n",
        "- Noisy inputs to model\n",
        "\n",
        "❓❓❓\n",
        "\n",
        "**Try changing trials that are plotted. Do the models capture all of the states equally well?**\n",
        "\n",
        "❓❓❓\n",
        "\n",
        "### Part 1: Visualizing latent activity"
      ]
    },
    {
      "cell_type": "code",
      "execution_count": null,
      "metadata": {
        "execution": {},
        "id": "n6EmYFdDRG6e"
      },
      "outputs": [],
      "source": [
        "from ctd.comparison.analysis.tt.tt import Analysis_TT\n",
        "\n",
        "fpath_GRU_128 = HOME_DIR + \"models_GRU_128/\"\n",
        "# Create the analysis object:\n",
        "analysis_GRU_128 = Analysis_TT(\n",
        "    run_name = \"GRU_128_3bff\",\n",
        "    filepath = fpath_GRU_128)\n",
        "\n",
        "analysis_GRU_128.plot_trial_io(num_trials = 2)"
      ]
    },
    {
      "cell_type": "code",
      "execution_count": null,
      "metadata": {
        "execution": {},
        "id": "3e05zbwGRG6y"
      },
      "outputs": [],
      "source": [
        "fpath_NODE = HOME_DIR + \"models_NODE_3/\"\n",
        "# Create the analysis object:\n",
        "analysis_NODE = Analysis_TT(\n",
        "    run_name = \"NODE_3_3bff\",\n",
        "    filepath = fpath_NODE)\n",
        "\n",
        "analysis_NODE.plot_trial_io(num_trials = 2)"
      ]
    },
    {
      "cell_type": "markdown",
      "metadata": {
        "execution": {},
        "id": "SLYPg1K2RG6z"
      },
      "source": [
        "There are also useful data visualization functions, such as visualizing a scree plot of the latent activity.\n",
        "\n",
        "A scree plot shows the % of variance in the highest principle component dimensions. From this plot, we can see that the GRU has the majority of its variance in the first 3 PCs, but significant variance remains in the lower PCs!"
      ]
    },
    {
      "cell_type": "code",
      "execution_count": null,
      "metadata": {
        "execution": {},
        "id": "x8exNEWcRG6z"
      },
      "outputs": [],
      "source": [
        "analysis_GRU_128.plot_scree()"
      ]
    },
    {
      "cell_type": "markdown",
      "metadata": {
        "execution": {},
        "id": "3eM3h85uRG6z"
      },
      "source": [
        "Importantly, the analysis object also provides functions that give access to the raw latent activity, predicted outputs, etc. of the trained models! All of these functions accept a \"phase\" variable that designates whether to return the training and/or validation datasets.\n",
        "These functions are:\n",
        "- `get_latents()`: Returns latent activity of the trained model\n",
        "- `get_inputs()`: Returns the inputs to the model (for 3BFF, the input pulses)\n",
        "- `get_model_output()`: Returns a dict that contains all model outputs:\n",
        "  - controlled - the variable that the model is controlling\n",
        "  - latents - the latent activity\n",
        "  - actions - the output from the model (for RandomTarget only)\n",
        "  - states - the state of the environment (for RandomTarget only)\n",
        "  - joints - Joint angles (for RandomTarget only)"
      ]
    },
    {
      "cell_type": "code",
      "execution_count": null,
      "metadata": {
        "execution": {},
        "id": "wc9RNrBVRG60"
      },
      "outputs": [],
      "source": [
        "print(f\"All data shape: {analysis_GRU_128.get_latents().shape}\")\n",
        "print(f\"Train data shape: {analysis_GRU_128.get_latents(phase = 'train').shape}\")\n",
        "print(f\"Validation data shape: {analysis_GRU_128.get_latents(phase = 'val').shape}\")"
      ]
    },
    {
      "cell_type": "code",
      "execution_count": null,
      "metadata": {
        "cellView": "form",
        "execution": {},
        "id": "PDNaeOmzRG60"
      },
      "outputs": [],
      "source": [
        "# @title Submit your feedback\n",
        "content_review(f\"{feedback_prefix}_visualizing_latent_activity\")"
      ]
    },
    {
      "cell_type": "markdown",
      "metadata": {
        "execution": {},
        "id": "m4gHAjRjRG61"
      },
      "source": [
        "### Part 2: Using affine transformations to compare latent activity\n",
        "\n",
        "Now that we have the latent activity for the 64D and the 128D GRU models trained on 3BFf, we can investigate how similar their latent activity is.\n",
        "\n",
        "One problem: The models may be arbitrarily rotated, scaled, and translated relative to each other!\n",
        "\n",
        "This means that we need to find the best \"fit\" between the two models that doesn't fail when they are equivalent under an \"affine\" transformation (meaning a linear transformation and/or translation).\n",
        "\n",
        "Luckily, we have a tool that can solve this problem for us! Linear regression.\n",
        "\n",
        "In this code, we are:\n",
        "\n",
        "1. Getting the latent activity from each model\n",
        "2. Performing PCA on the latent activity (to get the dimensions ordered by their variance)\n",
        "3. Fit a linear regression from one set of latent activity to the other."
      ]
    },
    {
      "cell_type": "code",
      "execution_count": null,
      "metadata": {
        "execution": {},
        "id": "nEddZahaRG61"
      },
      "outputs": [],
      "source": [
        "from sklearn.linear_model import LinearRegression\n",
        "from sklearn.metrics import r2_score\n",
        "from sklearn.decomposition import PCA\n",
        "\n",
        "source = analysis_GRU_128\n",
        "target = analysis_NODE\n",
        "\n",
        "# Get the latent activity from the validation phase for each model:\n",
        "latents_source = source.get_latents(phase='train').detach().numpy()\n",
        "latents_targ = target.get_latents(phase='train').detach().numpy()\n",
        "\n",
        "latents_source_val = source.get_latents(phase='val').detach().numpy()\n",
        "latents_targ_val = target.get_latents(phase='val').detach().numpy()\n",
        "\n",
        "n_trials, n_timesteps, n_latent_source = latents_source.shape\n",
        "n_trials, n_timesteps, n_latent_targ = latents_targ.shape\n",
        "\n",
        "n_trials_val, n_timesteps_val, n_latent_source_val = latents_source_val.shape\n",
        "n_trials_val, n_timesteps_val, n_latent_targ_val = latents_targ_val.shape\n",
        "\n",
        "print(f\"Latent shape for source model: {latents_source.shape}\"\n",
        "      f\"\\nLatent shape for target model: {latents_targ.shape}\")"
      ]
    },
    {
      "cell_type": "code",
      "execution_count": null,
      "metadata": {
        "execution": {},
        "id": "lv3X86JFRG62"
      },
      "outputs": [],
      "source": [
        "# Perform PCA on both latent spaces to find axes of highest variance\n",
        "pca_source = PCA()\n",
        "pca_targ = PCA()\n",
        "lats_source_pca = pca_source.fit_transform(latents_source.reshape(-1, n_latent_source)).reshape((n_trials, n_timesteps, -1))\n",
        "lats_source_pca_val = pca_source.transform(latents_source_val.reshape(-1, n_latent_source)).reshape((n_trials, n_timesteps, -1))\n",
        "\n",
        "lats_targ_pca = pca_targ.fit_transform(latents_targ.reshape(-1, n_latent_targ)).reshape((n_trials, n_timesteps, -1))\n",
        "lats_targ_pca_val = pca_targ.transform(latents_targ_val.reshape(-1, n_latent_targ_val)).reshape((n_trials_val, n_timesteps_val, -1))\n",
        "\n",
        "# Fit a linear regression model to predict the target latents from the source latents\n",
        "reg = LinearRegression().fit(lats_source_pca.reshape(-1, n_latent_source), lats_targ_pca.reshape(-1, n_latent_targ))\n",
        "# Get the R2 of the fit\n",
        "preds = reg.predict(lats_source_pca_val.reshape(-1, n_latent_source_val))\n",
        "r2s = r2_score(lats_targ_pca_val.reshape((-1, n_latent_targ_val)), preds,  multioutput = \"raw_values\")\n",
        "r2_var = r2_score(lats_targ_pca_val.reshape((-1, n_latent_targ_val)), preds, multioutput = \"variance_weighted\")\n",
        "print(f\"R2 of linear regression fit: {r2s}\")\n",
        "print(f\"Variance-weighted R2 of linear regression fit: {r2_var}\")"
      ]
    },
    {
      "cell_type": "markdown",
      "metadata": {
        "execution": {},
        "id": "_uVvgnEMRG62"
      },
      "source": [
        "So, the variance weighted R2 from the source to the target is ~0.93.\n",
        "\n",
        "Importantly, we had to pick a \"direction\" to compute this R2 value. What happens if we switch the source and targets?\n",
        "\n",
        "❓❓❓\n",
        "\n",
        "**Try reversing the direction (the source and targets) and see how well the model fits!**\n",
        "\n",
        "❓❓❓"
      ]
    },
    {
      "cell_type": "markdown",
      "metadata": {
        "execution": {},
        "id": "-TP6JWl7RG63"
      },
      "source": [
        "One final tool that is provided to you is the comparison object, which makes many of these direct comparisons within the object itself. Here is one example visualization that shows how similar the latent activities of two example trials are for these two models!\n",
        "\n",
        "This function has the affine transformation \"built-in,\" so you don't need this to show what your R2 value above looks like in the first 3 PCs!"
      ]
    },
    {
      "cell_type": "code",
      "execution_count": null,
      "metadata": {
        "execution": {},
        "id": "ju5xYaORRG63"
      },
      "outputs": [],
      "source": [
        "from ctd.comparison.comparison import Comparison\n",
        "comp = Comparison()\n",
        "comp.load_analysis(analysis_GRU_128, reference_analysis=True)\n",
        "comp.load_analysis(analysis_NODE)\n",
        "comp.plot_trials_3d_reference(num_trials=2)"
      ]
    },
    {
      "cell_type": "code",
      "execution_count": null,
      "metadata": {
        "cellView": "form",
        "execution": {},
        "id": "-yXcHqvdRG63"
      },
      "outputs": [],
      "source": [
        "# @title Submit your feedback\n",
        "content_review(f\"{feedback_prefix}_using_affine_transformations_to_compare_latent_activity\")"
      ]
    },
    {
      "cell_type": "markdown",
      "metadata": {
        "execution": {},
        "id": "kkgKimFZRG64"
      },
      "source": [
        "### Part 3: Fixed-point finding\n",
        "\n",
        "Finally, we can use fixed-point finding to inspect the linearized dynamics of the trained model.\n",
        "\n",
        "**What are fixed-points?**\n",
        "\n",
        "Fixed points are points in the dynamics for which the flow field is zero, meaning that points at that location do not move.\n",
        "\n",
        "The fixed point structure for the 3BFF task was first shown in the original [Sussillo and Barack paper](https://ccn.johndmurray.org/ccn_2013/materials/pdf/mante/sussillo_2013.pdf).\n",
        "\n",
        "<img src=\"https://github.com/neuromatch/NeuroAI_Course/blob/main/projects/project-notebooks/static/SussilloBarack.png?raw=true\" width=\"400\"/>\n",
        "\n",
        "\n",
        "We can see that the fixed-points are at the vertices of the cube above, drawing the activity towards them and keeping it there until an input pushes it out!\n",
        "\n",
        "We use a modified version of a fixed point finder released by [Golub et al. 2018](https://github.com/mattgolub/fixed-point-finder) to search the flow field for these zero points.\n",
        "\n",
        "❓❓❓\n",
        "\n",
        "**Try changing some of these parameters:**\n",
        "- How quickly are the fixed-points found in the model?\n",
        "- How many initializations are needed to find the fixed points?\n",
        "- Do the stability properties tell us anything about the underlying computation?\n",
        "\n",
        "❓❓❓\n",
        "\n",
        "Importantly from [Driscol et al. 2022](https://www.biorxiv.org/content/10.1101/2022.08.15.503870v1.full.pdf), we know that changes in the inputs can have large effects on the fixed point architecture, so we're going to set the inputs to zero in this optimization."
      ]
    },
    {
      "cell_type": "code",
      "execution_count": null,
      "metadata": {
        "execution": {},
        "id": "yNgM8lFRRG64"
      },
      "outputs": [],
      "source": [
        "import torch\n",
        "import contextlib\n",
        "import io\n",
        "\n",
        "with contextlib.redirect_stdout(io.StringIO()): #to suppress output\n",
        "    fps = analysis_GRU_128.plot_fps(\n",
        "        inputs= torch.zeros(3),\n",
        "        n_inits=1024,\n",
        "        learning_rate=1e-3,\n",
        "        noise_scale=0.0,\n",
        "        max_iters=20000,\n",
        "        seed=0,\n",
        "        compute_jacobians=True,\n",
        "        q_thresh=1e-5,\n",
        "    )"
      ]
    },
    {
      "cell_type": "code",
      "execution_count": null,
      "metadata": {
        "execution": {},
        "id": "WyGYW36rRG65"
      },
      "outputs": [],
      "source": [
        "import matplotlib.pyplot as plt\n",
        "q_thesh = 1e-6\n",
        "q_vals = fps.qstar\n",
        "x_star = fps.xstar[q_vals < q_thesh]\n",
        "fig = plt.figure(figsize=(10, 10))\n",
        "ax = fig.add_subplot(111, projection='3d')\n",
        "ax.scatter(x_star[:, 0], x_star[:, 1], x_star[:, 2], c='r', marker='o')\n",
        "fig.show()"
      ]
    },
    {
      "cell_type": "markdown",
      "metadata": {
        "execution": {},
        "id": "9MfQwxa1RG65"
      },
      "source": [
        "❓❓❓\n",
        "\n",
        "What can you find out about the FPs of the trained models? Can you modify the FP finding to get more interpretable results?\n",
        "\n",
        "What can we learn about the computational solution built in this 3BFF network from these fixed-point architectures?\n",
        "\n",
        "❓❓❓"
      ]
    },
    {
      "cell_type": "code",
      "execution_count": null,
      "metadata": {
        "cellView": "form",
        "execution": {},
        "id": "7X3FOolvRG65"
      },
      "outputs": [],
      "source": [
        "# @title Submit your feedback\n",
        "content_review(f\"{feedback_prefix}_fixed_point_finding\")"
      ]
    },
    {
      "cell_type": "markdown",
      "metadata": {
        "execution": {},
        "id": "QxCjV4CERG66"
      },
      "source": [
        "## Section 6: Introducing the Random Target task\n",
        "\n",
        "Now that we've developed intuition on a simple, well-understood task, let's move up the ladder of complexity!\n",
        "\n",
        "The second task is a random-target reaching task performed by an RNN controlling a 2-joint musculoskeletal model of an arm actuated by 6 Mujoco muscles. This environment was built using MotorNet, a package developed by [Oli Codol et al.](https://github.com/OlivierCodol/MotorNet) that provides environments for training RNNs to control biomechanical models!\n",
        "\n",
        "Here is a short clip of what this task looks like when performed by a well-trained model:\n",
        "\n",
        "<img src=\"https://github.com/neuromatch/NeuroAI_Course/blob/main/projects/project-notebooks/static/FinalGif.gif?raw=true\" width=\"300\"/>\n",
        "\n",
        "\n",
        "Behaviorally, the task has the following structure:\n",
        "1. A random initial hand position is sampled from a range of reachable locations; the model is instructed to maintain that hand position.\n",
        "2. A random target position is chosen from the range of reachable locations and fed to the model.\n",
        "3. After a random delay period, a go-cue is fed to the model, which prompts the model to generate muscle activations that drive the hand to the target location.\n",
        "4. On 20% of trials, the go-cue is never supplied (\"catch\" trials)\n",
        "5. On 50% of trials, a randomly directed bump perturbation (5-10 N, 150-300 ms duration) is applied to the hand.\n",
        "    - 50% of these bumps occur in a small window after the go-cue\n",
        "    - 50% of these bumps occur at a random time in the trial\n",
        "\n",
        "The model is trained to:\n",
        "1. Minimize the MSE between the hand position and the desired hand position\n",
        "2. Minimize the squared muscle activation\n",
        "\n",
        "with each loss term being weighted by a scalar."
      ]
    },
    {
      "cell_type": "code",
      "execution_count": null,
      "metadata": {
        "execution": {},
        "id": "uul9iNzoRG66"
      },
      "outputs": [],
      "source": [
        "from ctd.task_modeling.task_env.task_env import RandomTarget\n",
        "from motornet.effector import RigidTendonArm26\n",
        "from motornet.muscle import MujocoHillMuscle\n",
        "# Create the analysis object:\n",
        "rt_task_env = RandomTarget(effector = RigidTendonArm26(muscle = MujocoHillMuscle()))"
      ]
    },
    {
      "cell_type": "markdown",
      "metadata": {
        "execution": {},
        "id": "3sBb5vWxRG66"
      },
      "source": [
        "⏳⏳⏳\n",
        "\n",
        "Now, to train the model! We use the same procedure as the 3BFF above; however, this model will take a bit longer to train, as of the serial nature of this task, the parallelization allowed by GPUs doesn't help speed up our training!\n",
        "\n",
        "⏳⏳⏳"
      ]
    },
    {
      "cell_type": "code",
      "execution_count": null,
      "metadata": {
        "execution": {},
        "id": "jO18YjVNRG67"
      },
      "outputs": [],
      "source": [
        "from ctd.task_modeling.model.rnn import GRU_RNN\n",
        "from ctd.task_modeling.datamodule.task_datamodule import TaskDataModule\n",
        "from ctd.task_modeling.task_wrapper.task_wrapper import TaskTrainedWrapper\n",
        "from pytorch_lightning import Trainer\n",
        "\n",
        "# Step 1: Instantiate the model\n",
        "rnn = GRU_RNN(latent_size = 128) # Look in ctd/task_modeling/models for alternative choices!\n",
        "\n",
        "# Step 2: Instantiate the task environment\n",
        "task_env = rt_task_env\n",
        "\n",
        "# Step 3: Instantiate the task datamodule\n",
        "task_datamodule = TaskDataModule(task_env, n_samples = 1000, batch_size = 256)\n",
        "\n",
        "# Step 4: Instantiate the task wrapper\n",
        "task_wrapper = TaskTrainedWrapper(learning_rate=1e-3, weight_decay = 1e-8)\n",
        "\n",
        "# Step 5: Initialize the model with the input and output sizes\n",
        "rnn.init_model(\n",
        "    input_size = task_env.observation_space.shape[0] + task_env.context_inputs.shape[0],\n",
        "    output_size = task_env.action_space.shape[0]\n",
        "    )\n",
        "\n",
        "# Step 6:  Set the environment and model in the task wrapper\n",
        "task_wrapper.set_environment(task_env)\n",
        "task_wrapper.set_model(rnn)\n",
        "\n",
        "# Step 7: Define the PyTorch Lightning Trainer object (put `enable_progress_bar=True` to observe training progress)\n",
        "trainer = Trainer(accelerator= \"cpu\",max_epochs=500,enable_progress_bar=False)\n",
        "\n",
        "# Step 8: Fit the model\n",
        "trainer.fit(task_wrapper, task_datamodule)"
      ]
    },
    {
      "cell_type": "markdown",
      "metadata": {
        "execution": {},
        "id": "nON4HeN7RG67"
      },
      "source": [
        "Importantly, this task is distinct from the previous two tasks because the outputs of the model affect the subsequent inputs!\n",
        "\n",
        "<img src=\"https://github.com/neuromatch/NeuroAI_Course/blob/main/projects/project-notebooks/static/MotorNetIllustration-01.png?raw=true\" width=\"400\"/>\n",
        "\n",
        "\n",
        "Visualizing the latent dynamics of models trained on MotorNet tasks, we can see that there are complex features in the state space, but we'll leave that to you to figure out what they mean!\n",
        "\n",
        "<img src=\"https://github.com/neuromatch/NeuroAI_Course/blob/main/projects/project-notebooks/static/MotorNetGif.gif?raw=true\" width=\"300\"/>"
      ]
    },
    {
      "cell_type": "markdown",
      "metadata": {
        "execution": {},
        "id": "68w2b9TYRG67"
      },
      "source": [
        "In the later questions, we will ask you to modify the environments in MotorNet to test how well your models can generalize to new tasks!"
      ]
    },
    {
      "cell_type": "code",
      "execution_count": null,
      "metadata": {
        "cellView": "form",
        "execution": {},
        "id": "x0IYcKNyRG68"
      },
      "outputs": [],
      "source": [
        "# @title Submit your feedback\n",
        "content_review(f\"{feedback_prefix}_introducing_the_random_target_task\")"
      ]
    },
    {
      "cell_type": "markdown",
      "metadata": {
        "execution": {},
        "id": "J4pb2ATvRG68"
      },
      "source": [
        "---\n",
        "## Conclusion\n",
        "\n",
        "That's it!\n",
        "\n",
        "To recap, in this tutorial, we learned:\n",
        "1. The basics of two tasks, the Three-Bit Flip-Flop and the Random Target task.\n",
        "2. How to train recurrent neural network models on these tasks\n",
        "3. Methods of visualizing and quantifying differences between these task-trained models.\n",
        "\n",
        "As you begin to extend beyond this tutorial, you will likely need to make your own environments, or modify existing environments to test the ability of models to generalize. We've tried to document the code-base to make this as easy as possible, but feel free to reach out if you have any questions!"
      ]
    },
    {
      "cell_type": "code",
      "execution_count": null,
      "metadata": {
        "cellView": "form",
        "execution": {},
        "id": "Y9ifPlfbRG68"
      },
      "outputs": [],
      "source": [
        "# @title Submit your feedback\n",
        "content_review(f\"{feedback_prefix}_conclusion\")"
      ]
    }
  ],
  "metadata": {
    "colab": {
      "name": "ComparingNetworks",
      "toc_visible": true,
      "provenance": [],
      "include_colab_link": true
    },
    "kernel": {
      "display_name": "Python 3",
      "language": "python",
      "name": "python3"
    },
    "kernelspec": {
      "display_name": "Python 3 (ipykernel)",
      "language": "python",
      "name": "python3"
    },
    "language_info": {
      "codemirror_mode": {
        "name": "ipython",
        "version": 3
      },
      "file_extension": ".py",
      "mimetype": "text/x-python",
      "name": "python",
      "nbconvert_exporter": "python",
      "pygments_lexer": "ipython3",
      "version": "3.9.19"
    },
    "widgets": {
      "application/vnd.jupyter.widget-state+json": {
        "5f54b54b4d16419c9aa14a9546a7b6ce": {
          "model_module": "@jupyter-widgets/controls",
          "model_name": "TabModel",
          "model_module_version": "1.5.0",
          "state": {
            "_dom_classes": [],
            "_model_module": "@jupyter-widgets/controls",
            "_model_module_version": "1.5.0",
            "_model_name": "TabModel",
            "_titles": {
              "0": "Youtube",
              "1": "Bilibili"
            },
            "_view_count": null,
            "_view_module": "@jupyter-widgets/controls",
            "_view_module_version": "1.5.0",
            "_view_name": "TabView",
            "box_style": "",
            "children": [
              "IPY_MODEL_eba7e68670324d7594160fccf50251f4",
              "IPY_MODEL_22a9389f134544648529d74b8806cb53"
            ],
            "layout": "IPY_MODEL_329d2495aa874b3ea16c82ade4ceb62a",
            "selected_index": 0
          }
        },
        "eba7e68670324d7594160fccf50251f4": {
          "model_module": "@jupyter-widgets/output",
          "model_name": "OutputModel",
          "model_module_version": "1.0.0",
          "state": {
            "_dom_classes": [],
            "_model_module": "@jupyter-widgets/output",
            "_model_module_version": "1.0.0",
            "_model_name": "OutputModel",
            "_view_count": null,
            "_view_module": "@jupyter-widgets/output",
            "_view_module_version": "1.0.0",
            "_view_name": "OutputView",
            "layout": "IPY_MODEL_a325a29e2b6c450eba0ba1f22b2be21a",
            "msg_id": "",
            "outputs": [
              {
                "output_type": "stream",
                "name": "stdout",
                "text": [
                  "Video available at https://youtube.com/watch?v=KpXu34cvWPE\n"
                ]
              },
              {
                "output_type": "display_data",
                "data": {
                  "text/plain": "<IPython.lib.display.YouTubeVideo at 0x7975f5661590>",
                  "text/html": "\n        <iframe\n            width=\"854\"\n            height=\"480\"\n            src=\"https://www.youtube.com/embed/KpXu34cvWPE?fs=1&rel=0\"\n            frameborder=\"0\"\n            allowfullscreen\n            \n        ></iframe>\n        ",
                  "image/jpeg": "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\n"
                },
                "metadata": {}
              }
            ]
          }
        },
        "22a9389f134544648529d74b8806cb53": {
          "model_module": "@jupyter-widgets/output",
          "model_name": "OutputModel",
          "model_module_version": "1.0.0",
          "state": {
            "_dom_classes": [],
            "_model_module": "@jupyter-widgets/output",
            "_model_module_version": "1.0.0",
            "_model_name": "OutputModel",
            "_view_count": null,
            "_view_module": "@jupyter-widgets/output",
            "_view_module_version": "1.0.0",
            "_view_name": "OutputView",
            "layout": "IPY_MODEL_0c53f23d4b1c472f871199b641e6c045",
            "msg_id": "",
            "outputs": [
              {
                "output_type": "stream",
                "name": "stdout",
                "text": [
                  "Video available at https://www.bilibili.com/video/BV1qJ4m1g7nR\n"
                ]
              },
              {
                "output_type": "display_data",
                "data": {
                  "text/plain": "<__main__.PlayVideo at 0x7975f5663910>",
                  "text/html": "\n        <iframe\n            width=\"854\"\n            height=\"480\"\n            src=\"https://player.bilibili.com/player.html?bvid=BV1qJ4m1g7nR&page=1?fs=1&autoplay=False\"\n            frameborder=\"0\"\n            allowfullscreen\n            \n        ></iframe>\n        "
                },
                "metadata": {}
              }
            ]
          }
        },
        "329d2495aa874b3ea16c82ade4ceb62a": {
          "model_module": "@jupyter-widgets/base",
          "model_name": "LayoutModel",
          "model_module_version": "1.2.0",
          "state": {
            "_model_module": "@jupyter-widgets/base",
            "_model_module_version": "1.2.0",
            "_model_name": "LayoutModel",
            "_view_count": null,
            "_view_module": "@jupyter-widgets/base",
            "_view_module_version": "1.2.0",
            "_view_name": "LayoutView",
            "align_content": null,
            "align_items": null,
            "align_self": null,
            "border": null,
            "bottom": null,
            "display": null,
            "flex": null,
            "flex_flow": null,
            "grid_area": null,
            "grid_auto_columns": null,
            "grid_auto_flow": null,
            "grid_auto_rows": null,
            "grid_column": null,
            "grid_gap": null,
            "grid_row": null,
            "grid_template_areas": null,
            "grid_template_columns": null,
            "grid_template_rows": null,
            "height": null,
            "justify_content": null,
            "justify_items": null,
            "left": null,
            "margin": null,
            "max_height": null,
            "max_width": null,
            "min_height": null,
            "min_width": null,
            "object_fit": null,
            "object_position": null,
            "order": null,
            "overflow": null,
            "overflow_x": null,
            "overflow_y": null,
            "padding": null,
            "right": null,
            "top": null,
            "visibility": null,
            "width": null
          }
        },
        "a325a29e2b6c450eba0ba1f22b2be21a": {
          "model_module": "@jupyter-widgets/base",
          "model_name": "LayoutModel",
          "model_module_version": "1.2.0",
          "state": {
            "_model_module": "@jupyter-widgets/base",
            "_model_module_version": "1.2.0",
            "_model_name": "LayoutModel",
            "_view_count": null,
            "_view_module": "@jupyter-widgets/base",
            "_view_module_version": "1.2.0",
            "_view_name": "LayoutView",
            "align_content": null,
            "align_items": null,
            "align_self": null,
            "border": null,
            "bottom": null,
            "display": null,
            "flex": null,
            "flex_flow": null,
            "grid_area": null,
            "grid_auto_columns": null,
            "grid_auto_flow": null,
            "grid_auto_rows": null,
            "grid_column": null,
            "grid_gap": null,
            "grid_row": null,
            "grid_template_areas": null,
            "grid_template_columns": null,
            "grid_template_rows": null,
            "height": null,
            "justify_content": null,
            "justify_items": null,
            "left": null,
            "margin": null,
            "max_height": null,
            "max_width": null,
            "min_height": null,
            "min_width": null,
            "object_fit": null,
            "object_position": null,
            "order": null,
            "overflow": null,
            "overflow_x": null,
            "overflow_y": null,
            "padding": null,
            "right": null,
            "top": null,
            "visibility": null,
            "width": null
          }
        },
        "0c53f23d4b1c472f871199b641e6c045": {
          "model_module": "@jupyter-widgets/base",
          "model_name": "LayoutModel",
          "model_module_version": "1.2.0",
          "state": {
            "_model_module": "@jupyter-widgets/base",
            "_model_module_version": "1.2.0",
            "_model_name": "LayoutModel",
            "_view_count": null,
            "_view_module": "@jupyter-widgets/base",
            "_view_module_version": "1.2.0",
            "_view_name": "LayoutView",
            "align_content": null,
            "align_items": null,
            "align_self": null,
            "border": null,
            "bottom": null,
            "display": null,
            "flex": null,
            "flex_flow": null,
            "grid_area": null,
            "grid_auto_columns": null,
            "grid_auto_flow": null,
            "grid_auto_rows": null,
            "grid_column": null,
            "grid_gap": null,
            "grid_row": null,
            "grid_template_areas": null,
            "grid_template_columns": null,
            "grid_template_rows": null,
            "height": null,
            "justify_content": null,
            "justify_items": null,
            "left": null,
            "margin": null,
            "max_height": null,
            "max_width": null,
            "min_height": null,
            "min_width": null,
            "object_fit": null,
            "object_position": null,
            "order": null,
            "overflow": null,
            "overflow_x": null,
            "overflow_y": null,
            "padding": null,
            "right": null,
            "top": null,
            "visibility": null,
            "width": null
          }
        },
        "81aee6fda5524fc687d78c6eb8a41791": {
          "model_module": "@jupyter-widgets/controls",
          "model_name": "VBoxModel",
          "model_module_version": "1.5.0",
          "state": {
            "_dom_classes": [],
            "_model_module": "@jupyter-widgets/controls",
            "_model_module_version": "1.5.0",
            "_model_name": "VBoxModel",
            "_view_count": null,
            "_view_module": "@jupyter-widgets/controls",
            "_view_module_version": "1.5.0",
            "_view_name": "VBoxView",
            "box_style": "",
            "children": [
              "IPY_MODEL_e1b89d4a8a194afdaeedbdd43216b578"
            ],
            "layout": "IPY_MODEL_4e86b863569b406588b8dd29bca89877"
          }
        },
        "e1b89d4a8a194afdaeedbdd43216b578": {
          "model_module": "@jupyter-widgets/controls",
          "model_name": "VBoxModel",
          "model_module_version": "1.5.0",
          "state": {
            "_dom_classes": [],
            "_model_module": "@jupyter-widgets/controls",
            "_model_module_version": "1.5.0",
            "_model_name": "VBoxModel",
            "_view_count": null,
            "_view_module": "@jupyter-widgets/controls",
            "_view_module_version": "1.5.0",
            "_view_name": "VBoxView",
            "box_style": "",
            "children": [
              "IPY_MODEL_76654febcc7f4c7c982b1500351ce220",
              "IPY_MODEL_33df851c3e7f4957995f705bf8b20aa4",
              "IPY_MODEL_8e365d12f2ce451c9089014ac16279e1"
            ],
            "layout": "IPY_MODEL_b919789dbbd14ea38a775a8b5a2a8722"
          }
        },
        "4e86b863569b406588b8dd29bca89877": {
          "model_module": "@jupyter-widgets/base",
          "model_name": "LayoutModel",
          "model_module_version": "1.2.0",
          "state": {
            "_model_module": "@jupyter-widgets/base",
            "_model_module_version": "1.2.0",
            "_model_name": "LayoutModel",
            "_view_count": null,
            "_view_module": "@jupyter-widgets/base",
            "_view_module_version": "1.2.0",
            "_view_name": "LayoutView",
            "align_content": null,
            "align_items": null,
            "align_self": null,
            "border": null,
            "bottom": null,
            "display": null,
            "flex": null,
            "flex_flow": null,
            "grid_area": null,
            "grid_auto_columns": null,
            "grid_auto_flow": null,
            "grid_auto_rows": null,
            "grid_column": null,
            "grid_gap": null,
            "grid_row": null,
            "grid_template_areas": null,
            "grid_template_columns": null,
            "grid_template_rows": null,
            "height": null,
            "justify_content": null,
            "justify_items": null,
            "left": null,
            "margin": null,
            "max_height": null,
            "max_width": null,
            "min_height": null,
            "min_width": null,
            "object_fit": null,
            "object_position": null,
            "order": null,
            "overflow": null,
            "overflow_x": null,
            "overflow_y": null,
            "padding": null,
            "right": null,
            "top": null,
            "visibility": null,
            "width": null
          }
        },
        "76654febcc7f4c7c982b1500351ce220": {
          "model_module": "@jupyter-widgets/controls",
          "model_name": "HBoxModel",
          "model_module_version": "1.5.0",
          "state": {
            "_dom_classes": [],
            "_model_module": "@jupyter-widgets/controls",
            "_model_module_version": "1.5.0",
            "_model_name": "HBoxModel",
            "_view_count": null,
            "_view_module": "@jupyter-widgets/controls",
            "_view_module_version": "1.5.0",
            "_view_name": "HBoxView",
            "box_style": "",
            "children": [
              "IPY_MODEL_03123a6a497e44399adff5fd01377cf2",
              "IPY_MODEL_32ee6412e6f04ec3859ddf776dcfc622",
              "IPY_MODEL_e1ea75f4413941d0b0e6b9a017e43377"
            ],
            "layout": "IPY_MODEL_616b42e3127d401baa44efb9dcf12087"
          }
        },
        "33df851c3e7f4957995f705bf8b20aa4": {
          "model_module": "@jupyter-widgets/controls",
          "model_name": "HBoxModel",
          "model_module_version": "1.5.0",
          "state": {
            "_dom_classes": [],
            "_model_module": "@jupyter-widgets/controls",
            "_model_module_version": "1.5.0",
            "_model_name": "HBoxModel",
            "_view_count": null,
            "_view_module": "@jupyter-widgets/controls",
            "_view_module_version": "1.5.0",
            "_view_name": "HBoxView",
            "box_style": "",
            "children": [
              "IPY_MODEL_b188ed4d410b4316a332037cb334ddad",
              "IPY_MODEL_ed12df6ad49a4ad79c36376583c7f095"
            ],
            "layout": "IPY_MODEL_eeaa10294d174a7caa19da9c8b193da1"
          }
        },
        "8e365d12f2ce451c9089014ac16279e1": {
          "model_module": "@jupyter-widgets/controls",
          "model_name": "LabelModel",
          "model_module_version": "1.5.0",
          "state": {
            "_dom_classes": [],
            "_model_module": "@jupyter-widgets/controls",
            "_model_module_version": "1.5.0",
            "_model_name": "LabelModel",
            "_view_count": null,
            "_view_module": "@jupyter-widgets/controls",
            "_view_module_version": "1.5.0",
            "_view_name": "LabelView",
            "description": "",
            "description_tooltip": null,
            "layout": "IPY_MODEL_f6c8b0069a304fed9b6e8a2fc96ac00e",
            "placeholder": "​",
            "style": "IPY_MODEL_4d5f3b9d93c74a50ace773bc9b8261b5",
            "value": "Thanks for your feedback!"
          }
        },
        "b919789dbbd14ea38a775a8b5a2a8722": {
          "model_module": "@jupyter-widgets/base",
          "model_name": "LayoutModel",
          "model_module_version": "1.2.0",
          "state": {
            "_model_module": "@jupyter-widgets/base",
            "_model_module_version": "1.2.0",
            "_model_name": "LayoutModel",
            "_view_count": null,
            "_view_module": "@jupyter-widgets/base",
            "_view_module_version": "1.2.0",
            "_view_name": "LayoutView",
            "align_content": null,
            "align_items": null,
            "align_self": null,
            "border": null,
            "bottom": null,
            "display": null,
            "flex": null,
            "flex_flow": null,
            "grid_area": null,
            "grid_auto_columns": null,
            "grid_auto_flow": null,
            "grid_auto_rows": null,
            "grid_column": null,
            "grid_gap": null,
            "grid_row": null,
            "grid_template_areas": null,
            "grid_template_columns": null,
            "grid_template_rows": null,
            "height": null,
            "justify_content": null,
            "justify_items": null,
            "left": null,
            "margin": null,
            "max_height": null,
            "max_width": null,
            "min_height": null,
            "min_width": null,
            "object_fit": null,
            "object_position": null,
            "order": null,
            "overflow": null,
            "overflow_x": null,
            "overflow_y": null,
            "padding": null,
            "right": null,
            "top": null,
            "visibility": null,
            "width": null
          }
        },
        "03123a6a497e44399adff5fd01377cf2": {
          "model_module": "@jupyter-widgets/controls",
          "model_name": "ButtonModel",
          "model_module_version": "1.5.0",
          "state": {
            "_dom_classes": [
              "happy"
            ],
            "_model_module": "@jupyter-widgets/controls",
            "_model_module_version": "1.5.0",
            "_model_name": "ButtonModel",
            "_view_count": null,
            "_view_module": "@jupyter-widgets/controls",
            "_view_module_version": "1.5.0",
            "_view_name": "ButtonView",
            "button_style": "",
            "description": "🙂",
            "disabled": false,
            "icon": "",
            "layout": "IPY_MODEL_c22a470a263b4f80809a20167226aadd",
            "style": "IPY_MODEL_17cb558dab9f464a911b112962a2c045",
            "tooltip": "happy"
          }
        },
        "32ee6412e6f04ec3859ddf776dcfc622": {
          "model_module": "@jupyter-widgets/controls",
          "model_name": "ButtonModel",
          "model_module_version": "1.5.0",
          "state": {
            "_dom_classes": [
              "medium"
            ],
            "_model_module": "@jupyter-widgets/controls",
            "_model_module_version": "1.5.0",
            "_model_name": "ButtonModel",
            "_view_count": null,
            "_view_module": "@jupyter-widgets/controls",
            "_view_module_version": "1.5.0",
            "_view_name": "ButtonView",
            "button_style": "",
            "description": "😐",
            "disabled": false,
            "icon": "",
            "layout": "IPY_MODEL_9570b628b86d480fad4abe7f5a82f2af",
            "style": "IPY_MODEL_78fb2e2c80f14abb94255df072fc289b",
            "tooltip": "medium"
          }
        },
        "e1ea75f4413941d0b0e6b9a017e43377": {
          "model_module": "@jupyter-widgets/controls",
          "model_name": "ButtonModel",
          "model_module_version": "1.5.0",
          "state": {
            "_dom_classes": [
              "sad"
            ],
            "_model_module": "@jupyter-widgets/controls",
            "_model_module_version": "1.5.0",
            "_model_name": "ButtonModel",
            "_view_count": null,
            "_view_module": "@jupyter-widgets/controls",
            "_view_module_version": "1.5.0",
            "_view_name": "ButtonView",
            "button_style": "",
            "description": "🙁",
            "disabled": false,
            "icon": "",
            "layout": "IPY_MODEL_8616a98e040e4c96a76e15993c613377",
            "style": "IPY_MODEL_f1f3184b7d2445088e46b529f63f7e35",
            "tooltip": "sad"
          }
        },
        "616b42e3127d401baa44efb9dcf12087": {
          "model_module": "@jupyter-widgets/base",
          "model_name": "LayoutModel",
          "model_module_version": "1.2.0",
          "state": {
            "_model_module": "@jupyter-widgets/base",
            "_model_module_version": "1.2.0",
            "_model_name": "LayoutModel",
            "_view_count": null,
            "_view_module": "@jupyter-widgets/base",
            "_view_module_version": "1.2.0",
            "_view_name": "LayoutView",
            "align_content": null,
            "align_items": null,
            "align_self": null,
            "border": null,
            "bottom": null,
            "display": null,
            "flex": null,
            "flex_flow": null,
            "grid_area": null,
            "grid_auto_columns": null,
            "grid_auto_flow": null,
            "grid_auto_rows": null,
            "grid_column": null,
            "grid_gap": null,
            "grid_row": null,
            "grid_template_areas": null,
            "grid_template_columns": null,
            "grid_template_rows": null,
            "height": null,
            "justify_content": null,
            "justify_items": null,
            "left": null,
            "margin": null,
            "max_height": null,
            "max_width": null,
            "min_height": null,
            "min_width": null,
            "object_fit": null,
            "object_position": null,
            "order": null,
            "overflow": null,
            "overflow_x": null,
            "overflow_y": null,
            "padding": null,
            "right": null,
            "top": null,
            "visibility": null,
            "width": null
          }
        },
        "b188ed4d410b4316a332037cb334ddad": {
          "model_module": "@jupyter-widgets/controls",
          "model_name": "TextareaModel",
          "model_module_version": "1.5.0",
          "state": {
            "_dom_classes": [],
            "_model_module": "@jupyter-widgets/controls",
            "_model_module_version": "1.5.0",
            "_model_name": "TextareaModel",
            "_view_count": null,
            "_view_module": "@jupyter-widgets/controls",
            "_view_module_version": "1.5.0",
            "_view_name": "TextareaView",
            "continuous_update": true,
            "description": "",
            "description_tooltip": null,
            "disabled": false,
            "layout": "IPY_MODEL_69ea9a9a2a8641018649088fd9e097d9",
            "placeholder": "We want your feedback!",
            "rows": null,
            "style": "IPY_MODEL_6e018c7b021c42fdb6924a78964dbe86",
            "value": ""
          }
        },
        "ed12df6ad49a4ad79c36376583c7f095": {
          "model_module": "@jupyter-widgets/controls",
          "model_name": "ButtonModel",
          "model_module_version": "1.5.0",
          "state": {
            "_dom_classes": [],
            "_model_module": "@jupyter-widgets/controls",
            "_model_module_version": "1.5.0",
            "_model_name": "ButtonModel",
            "_view_count": null,
            "_view_module": "@jupyter-widgets/controls",
            "_view_module_version": "1.5.0",
            "_view_name": "ButtonView",
            "button_style": "",
            "description": "Submit",
            "disabled": false,
            "icon": "",
            "layout": "IPY_MODEL_75054cf6507548629dbcf5bcd400d070",
            "style": "IPY_MODEL_5ea2bfb34b4345edaa06fac7a551703e",
            "tooltip": ""
          }
        },
        "eeaa10294d174a7caa19da9c8b193da1": {
          "model_module": "@jupyter-widgets/base",
          "model_name": "LayoutModel",
          "model_module_version": "1.2.0",
          "state": {
            "_model_module": "@jupyter-widgets/base",
            "_model_module_version": "1.2.0",
            "_model_name": "LayoutModel",
            "_view_count": null,
            "_view_module": "@jupyter-widgets/base",
            "_view_module_version": "1.2.0",
            "_view_name": "LayoutView",
            "align_content": null,
            "align_items": null,
            "align_self": null,
            "border": null,
            "bottom": null,
            "display": "none",
            "flex": null,
            "flex_flow": null,
            "grid_area": null,
            "grid_auto_columns": null,
            "grid_auto_flow": null,
            "grid_auto_rows": null,
            "grid_column": null,
            "grid_gap": null,
            "grid_row": null,
            "grid_template_areas": null,
            "grid_template_columns": null,
            "grid_template_rows": null,
            "height": null,
            "justify_content": null,
            "justify_items": null,
            "left": null,
            "margin": null,
            "max_height": null,
            "max_width": null,
            "min_height": null,
            "min_width": null,
            "object_fit": null,
            "object_position": null,
            "order": null,
            "overflow": null,
            "overflow_x": null,
            "overflow_y": null,
            "padding": null,
            "right": null,
            "top": null,
            "visibility": null,
            "width": null
          }
        },
        "f6c8b0069a304fed9b6e8a2fc96ac00e": {
          "model_module": "@jupyter-widgets/base",
          "model_name": "LayoutModel",
          "model_module_version": "1.2.0",
          "state": {
            "_model_module": "@jupyter-widgets/base",
            "_model_module_version": "1.2.0",
            "_model_name": "LayoutModel",
            "_view_count": null,
            "_view_module": "@jupyter-widgets/base",
            "_view_module_version": "1.2.0",
            "_view_name": "LayoutView",
            "align_content": null,
            "align_items": null,
            "align_self": null,
            "border": null,
            "bottom": null,
            "display": "none",
            "flex": null,
            "flex_flow": null,
            "grid_area": null,
            "grid_auto_columns": null,
            "grid_auto_flow": null,
            "grid_auto_rows": null,
            "grid_column": null,
            "grid_gap": null,
            "grid_row": null,
            "grid_template_areas": null,
            "grid_template_columns": null,
            "grid_template_rows": null,
            "height": null,
            "justify_content": null,
            "justify_items": null,
            "left": null,
            "margin": null,
            "max_height": null,
            "max_width": null,
            "min_height": null,
            "min_width": null,
            "object_fit": null,
            "object_position": null,
            "order": null,
            "overflow": null,
            "overflow_x": null,
            "overflow_y": null,
            "padding": null,
            "right": null,
            "top": null,
            "visibility": null,
            "width": null
          }
        },
        "4d5f3b9d93c74a50ace773bc9b8261b5": {
          "model_module": "@jupyter-widgets/controls",
          "model_name": "DescriptionStyleModel",
          "model_module_version": "1.5.0",
          "state": {
            "_model_module": "@jupyter-widgets/controls",
            "_model_module_version": "1.5.0",
            "_model_name": "DescriptionStyleModel",
            "_view_count": null,
            "_view_module": "@jupyter-widgets/base",
            "_view_module_version": "1.2.0",
            "_view_name": "StyleView",
            "description_width": ""
          }
        },
        "c22a470a263b4f80809a20167226aadd": {
          "model_module": "@jupyter-widgets/base",
          "model_name": "LayoutModel",
          "model_module_version": "1.2.0",
          "state": {
            "_model_module": "@jupyter-widgets/base",
            "_model_module_version": "1.2.0",
            "_model_name": "LayoutModel",
            "_view_count": null,
            "_view_module": "@jupyter-widgets/base",
            "_view_module_version": "1.2.0",
            "_view_name": "LayoutView",
            "align_content": null,
            "align_items": null,
            "align_self": null,
            "border": null,
            "bottom": null,
            "display": null,
            "flex": null,
            "flex_flow": null,
            "grid_area": null,
            "grid_auto_columns": null,
            "grid_auto_flow": null,
            "grid_auto_rows": null,
            "grid_column": null,
            "grid_gap": null,
            "grid_row": null,
            "grid_template_areas": null,
            "grid_template_columns": null,
            "grid_template_rows": null,
            "height": "auto",
            "justify_content": null,
            "justify_items": null,
            "left": null,
            "margin": null,
            "max_height": null,
            "max_width": null,
            "min_height": null,
            "min_width": null,
            "object_fit": null,
            "object_position": null,
            "order": null,
            "overflow": null,
            "overflow_x": null,
            "overflow_y": null,
            "padding": "0.5em",
            "right": null,
            "top": null,
            "visibility": null,
            "width": "auto"
          }
        },
        "17cb558dab9f464a911b112962a2c045": {
          "model_module": "@jupyter-widgets/controls",
          "model_name": "ButtonStyleModel",
          "model_module_version": "1.5.0",
          "state": {
            "_model_module": "@jupyter-widgets/controls",
            "_model_module_version": "1.5.0",
            "_model_name": "ButtonStyleModel",
            "_view_count": null,
            "_view_module": "@jupyter-widgets/base",
            "_view_module_version": "1.2.0",
            "_view_name": "StyleView",
            "button_color": "#aaffaa",
            "font_weight": ""
          }
        },
        "9570b628b86d480fad4abe7f5a82f2af": {
          "model_module": "@jupyter-widgets/base",
          "model_name": "LayoutModel",
          "model_module_version": "1.2.0",
          "state": {
            "_model_module": "@jupyter-widgets/base",
            "_model_module_version": "1.2.0",
            "_model_name": "LayoutModel",
            "_view_count": null,
            "_view_module": "@jupyter-widgets/base",
            "_view_module_version": "1.2.0",
            "_view_name": "LayoutView",
            "align_content": null,
            "align_items": null,
            "align_self": null,
            "border": null,
            "bottom": null,
            "display": null,
            "flex": null,
            "flex_flow": null,
            "grid_area": null,
            "grid_auto_columns": null,
            "grid_auto_flow": null,
            "grid_auto_rows": null,
            "grid_column": null,
            "grid_gap": null,
            "grid_row": null,
            "grid_template_areas": null,
            "grid_template_columns": null,
            "grid_template_rows": null,
            "height": "auto",
            "justify_content": null,
            "justify_items": null,
            "left": null,
            "margin": null,
            "max_height": null,
            "max_width": null,
            "min_height": null,
            "min_width": null,
            "object_fit": null,
            "object_position": null,
            "order": null,
            "overflow": null,
            "overflow_x": null,
            "overflow_y": null,
            "padding": "0.5em",
            "right": null,
            "top": null,
            "visibility": null,
            "width": "auto"
          }
        },
        "78fb2e2c80f14abb94255df072fc289b": {
          "model_module": "@jupyter-widgets/controls",
          "model_name": "ButtonStyleModel",
          "model_module_version": "1.5.0",
          "state": {
            "_model_module": "@jupyter-widgets/controls",
            "_model_module_version": "1.5.0",
            "_model_name": "ButtonStyleModel",
            "_view_count": null,
            "_view_module": "@jupyter-widgets/base",
            "_view_module_version": "1.2.0",
            "_view_name": "StyleView",
            "button_color": "#dddd77",
            "font_weight": ""
          }
        },
        "8616a98e040e4c96a76e15993c613377": {
          "model_module": "@jupyter-widgets/base",
          "model_name": "LayoutModel",
          "model_module_version": "1.2.0",
          "state": {
            "_model_module": "@jupyter-widgets/base",
            "_model_module_version": "1.2.0",
            "_model_name": "LayoutModel",
            "_view_count": null,
            "_view_module": "@jupyter-widgets/base",
            "_view_module_version": "1.2.0",
            "_view_name": "LayoutView",
            "align_content": null,
            "align_items": null,
            "align_self": null,
            "border": null,
            "bottom": null,
            "display": null,
            "flex": null,
            "flex_flow": null,
            "grid_area": null,
            "grid_auto_columns": null,
            "grid_auto_flow": null,
            "grid_auto_rows": null,
            "grid_column": null,
            "grid_gap": null,
            "grid_row": null,
            "grid_template_areas": null,
            "grid_template_columns": null,
            "grid_template_rows": null,
            "height": "auto",
            "justify_content": null,
            "justify_items": null,
            "left": null,
            "margin": null,
            "max_height": null,
            "max_width": null,
            "min_height": null,
            "min_width": null,
            "object_fit": null,
            "object_position": null,
            "order": null,
            "overflow": null,
            "overflow_x": null,
            "overflow_y": null,
            "padding": "0.5em",
            "right": null,
            "top": null,
            "visibility": null,
            "width": "auto"
          }
        },
        "f1f3184b7d2445088e46b529f63f7e35": {
          "model_module": "@jupyter-widgets/controls",
          "model_name": "ButtonStyleModel",
          "model_module_version": "1.5.0",
          "state": {
            "_model_module": "@jupyter-widgets/controls",
            "_model_module_version": "1.5.0",
            "_model_name": "ButtonStyleModel",
            "_view_count": null,
            "_view_module": "@jupyter-widgets/base",
            "_view_module_version": "1.2.0",
            "_view_name": "StyleView",
            "button_color": "#ffaaaa",
            "font_weight": ""
          }
        },
        "69ea9a9a2a8641018649088fd9e097d9": {
          "model_module": "@jupyter-widgets/base",
          "model_name": "LayoutModel",
          "model_module_version": "1.2.0",
          "state": {
            "_model_module": "@jupyter-widgets/base",
            "_model_module_version": "1.2.0",
            "_model_name": "LayoutModel",
            "_view_count": null,
            "_view_module": "@jupyter-widgets/base",
            "_view_module_version": "1.2.0",
            "_view_name": "LayoutView",
            "align_content": null,
            "align_items": null,
            "align_self": null,
            "border": null,
            "bottom": null,
            "display": null,
            "flex": null,
            "flex_flow": null,
            "grid_area": null,
            "grid_auto_columns": null,
            "grid_auto_flow": null,
            "grid_auto_rows": null,
            "grid_column": null,
            "grid_gap": null,
            "grid_row": null,
            "grid_template_areas": null,
            "grid_template_columns": null,
            "grid_template_rows": null,
            "height": "auto",
            "justify_content": null,
            "justify_items": null,
            "left": null,
            "margin": null,
            "max_height": null,
            "max_width": null,
            "min_height": null,
            "min_width": null,
            "object_fit": null,
            "object_position": null,
            "order": null,
            "overflow": null,
            "overflow_x": null,
            "overflow_y": null,
            "padding": null,
            "right": null,
            "top": null,
            "visibility": null,
            "width": "auto"
          }
        },
        "6e018c7b021c42fdb6924a78964dbe86": {
          "model_module": "@jupyter-widgets/controls",
          "model_name": "DescriptionStyleModel",
          "model_module_version": "1.5.0",
          "state": {
            "_model_module": "@jupyter-widgets/controls",
            "_model_module_version": "1.5.0",
            "_model_name": "DescriptionStyleModel",
            "_view_count": null,
            "_view_module": "@jupyter-widgets/base",
            "_view_module_version": "1.2.0",
            "_view_name": "StyleView",
            "description_width": ""
          }
        },
        "75054cf6507548629dbcf5bcd400d070": {
          "model_module": "@jupyter-widgets/base",
          "model_name": "LayoutModel",
          "model_module_version": "1.2.0",
          "state": {
            "_model_module": "@jupyter-widgets/base",
            "_model_module_version": "1.2.0",
            "_model_name": "LayoutModel",
            "_view_count": null,
            "_view_module": "@jupyter-widgets/base",
            "_view_module_version": "1.2.0",
            "_view_name": "LayoutView",
            "align_content": null,
            "align_items": null,
            "align_self": null,
            "border": null,
            "bottom": null,
            "display": null,
            "flex": null,
            "flex_flow": null,
            "grid_area": null,
            "grid_auto_columns": null,
            "grid_auto_flow": null,
            "grid_auto_rows": null,
            "grid_column": null,
            "grid_gap": null,
            "grid_row": null,
            "grid_template_areas": null,
            "grid_template_columns": null,
            "grid_template_rows": null,
            "height": "auto",
            "justify_content": null,
            "justify_items": null,
            "left": null,
            "margin": null,
            "max_height": null,
            "max_width": null,
            "min_height": null,
            "min_width": null,
            "object_fit": null,
            "object_position": null,
            "order": null,
            "overflow": null,
            "overflow_x": null,
            "overflow_y": null,
            "padding": null,
            "right": null,
            "top": null,
            "visibility": null,
            "width": "auto"
          }
        },
        "5ea2bfb34b4345edaa06fac7a551703e": {
          "model_module": "@jupyter-widgets/controls",
          "model_name": "ButtonStyleModel",
          "model_module_version": "1.5.0",
          "state": {
            "_model_module": "@jupyter-widgets/controls",
            "_model_module_version": "1.5.0",
            "_model_name": "ButtonStyleModel",
            "_view_count": null,
            "_view_module": "@jupyter-widgets/base",
            "_view_module_version": "1.2.0",
            "_view_name": "StyleView",
            "button_color": null,
            "font_weight": ""
          }
        },
        "bfaccfed19ab470a981ac07319fd5b83": {
          "model_module": "@jupyter-widgets/controls",
          "model_name": "VBoxModel",
          "model_module_version": "1.5.0",
          "state": {
            "_dom_classes": [],
            "_model_module": "@jupyter-widgets/controls",
            "_model_module_version": "1.5.0",
            "_model_name": "VBoxModel",
            "_view_count": null,
            "_view_module": "@jupyter-widgets/controls",
            "_view_module_version": "1.5.0",
            "_view_name": "VBoxView",
            "box_style": "",
            "children": [
              "IPY_MODEL_e88c893e87ff4c5a9b4267d0182514a3"
            ],
            "layout": "IPY_MODEL_0d82394665d74d96b53bcfd42fbbe292"
          }
        },
        "e88c893e87ff4c5a9b4267d0182514a3": {
          "model_module": "@jupyter-widgets/controls",
          "model_name": "VBoxModel",
          "model_module_version": "1.5.0",
          "state": {
            "_dom_classes": [],
            "_model_module": "@jupyter-widgets/controls",
            "_model_module_version": "1.5.0",
            "_model_name": "VBoxModel",
            "_view_count": null,
            "_view_module": "@jupyter-widgets/controls",
            "_view_module_version": "1.5.0",
            "_view_name": "VBoxView",
            "box_style": "",
            "children": [
              "IPY_MODEL_2b66fbc9343f428c989ecdf9beaf61ce",
              "IPY_MODEL_a9c5ae918a154d5f9ebe29ffd006314d",
              "IPY_MODEL_d0e35355953b474cb1041005e59958ac"
            ],
            "layout": "IPY_MODEL_b2383fc0f07c4578a4114ea637db2f0f"
          }
        },
        "0d82394665d74d96b53bcfd42fbbe292": {
          "model_module": "@jupyter-widgets/base",
          "model_name": "LayoutModel",
          "model_module_version": "1.2.0",
          "state": {
            "_model_module": "@jupyter-widgets/base",
            "_model_module_version": "1.2.0",
            "_model_name": "LayoutModel",
            "_view_count": null,
            "_view_module": "@jupyter-widgets/base",
            "_view_module_version": "1.2.0",
            "_view_name": "LayoutView",
            "align_content": null,
            "align_items": null,
            "align_self": null,
            "border": null,
            "bottom": null,
            "display": null,
            "flex": null,
            "flex_flow": null,
            "grid_area": null,
            "grid_auto_columns": null,
            "grid_auto_flow": null,
            "grid_auto_rows": null,
            "grid_column": null,
            "grid_gap": null,
            "grid_row": null,
            "grid_template_areas": null,
            "grid_template_columns": null,
            "grid_template_rows": null,
            "height": null,
            "justify_content": null,
            "justify_items": null,
            "left": null,
            "margin": null,
            "max_height": null,
            "max_width": null,
            "min_height": null,
            "min_width": null,
            "object_fit": null,
            "object_position": null,
            "order": null,
            "overflow": null,
            "overflow_x": null,
            "overflow_y": null,
            "padding": null,
            "right": null,
            "top": null,
            "visibility": null,
            "width": null
          }
        },
        "2b66fbc9343f428c989ecdf9beaf61ce": {
          "model_module": "@jupyter-widgets/controls",
          "model_name": "HBoxModel",
          "model_module_version": "1.5.0",
          "state": {
            "_dom_classes": [],
            "_model_module": "@jupyter-widgets/controls",
            "_model_module_version": "1.5.0",
            "_model_name": "HBoxModel",
            "_view_count": null,
            "_view_module": "@jupyter-widgets/controls",
            "_view_module_version": "1.5.0",
            "_view_name": "HBoxView",
            "box_style": "",
            "children": [
              "IPY_MODEL_f43c7cf3ca104f21b1ad9b29fc286af7",
              "IPY_MODEL_089d0e5785794cdd87ab2d10e68fea8d",
              "IPY_MODEL_3e7fb9ddc6df4a8ebb9eb98f5551576a"
            ],
            "layout": "IPY_MODEL_a5c4f89e8fe641eabb8791dbda0198af"
          }
        },
        "a9c5ae918a154d5f9ebe29ffd006314d": {
          "model_module": "@jupyter-widgets/controls",
          "model_name": "HBoxModel",
          "model_module_version": "1.5.0",
          "state": {
            "_dom_classes": [],
            "_model_module": "@jupyter-widgets/controls",
            "_model_module_version": "1.5.0",
            "_model_name": "HBoxModel",
            "_view_count": null,
            "_view_module": "@jupyter-widgets/controls",
            "_view_module_version": "1.5.0",
            "_view_name": "HBoxView",
            "box_style": "",
            "children": [
              "IPY_MODEL_ba0caf9628af4ca8b4b58e89beaa9129",
              "IPY_MODEL_6c6af1bb5a1a43ad8ab8daff4d05b88a"
            ],
            "layout": "IPY_MODEL_7401c1015806488f8b696a2f97f6aa4b"
          }
        },
        "d0e35355953b474cb1041005e59958ac": {
          "model_module": "@jupyter-widgets/controls",
          "model_name": "LabelModel",
          "model_module_version": "1.5.0",
          "state": {
            "_dom_classes": [],
            "_model_module": "@jupyter-widgets/controls",
            "_model_module_version": "1.5.0",
            "_model_name": "LabelModel",
            "_view_count": null,
            "_view_module": "@jupyter-widgets/controls",
            "_view_module_version": "1.5.0",
            "_view_name": "LabelView",
            "description": "",
            "description_tooltip": null,
            "layout": "IPY_MODEL_c0aab6c9c4ba4c6986fb3f317370c66e",
            "placeholder": "​",
            "style": "IPY_MODEL_49693cf4611c4925b7d8e0483ff886c1",
            "value": "Thanks for your feedback!"
          }
        },
        "b2383fc0f07c4578a4114ea637db2f0f": {
          "model_module": "@jupyter-widgets/base",
          "model_name": "LayoutModel",
          "model_module_version": "1.2.0",
          "state": {
            "_model_module": "@jupyter-widgets/base",
            "_model_module_version": "1.2.0",
            "_model_name": "LayoutModel",
            "_view_count": null,
            "_view_module": "@jupyter-widgets/base",
            "_view_module_version": "1.2.0",
            "_view_name": "LayoutView",
            "align_content": null,
            "align_items": null,
            "align_self": null,
            "border": null,
            "bottom": null,
            "display": null,
            "flex": null,
            "flex_flow": null,
            "grid_area": null,
            "grid_auto_columns": null,
            "grid_auto_flow": null,
            "grid_auto_rows": null,
            "grid_column": null,
            "grid_gap": null,
            "grid_row": null,
            "grid_template_areas": null,
            "grid_template_columns": null,
            "grid_template_rows": null,
            "height": null,
            "justify_content": null,
            "justify_items": null,
            "left": null,
            "margin": null,
            "max_height": null,
            "max_width": null,
            "min_height": null,
            "min_width": null,
            "object_fit": null,
            "object_position": null,
            "order": null,
            "overflow": null,
            "overflow_x": null,
            "overflow_y": null,
            "padding": null,
            "right": null,
            "top": null,
            "visibility": null,
            "width": null
          }
        },
        "f43c7cf3ca104f21b1ad9b29fc286af7": {
          "model_module": "@jupyter-widgets/controls",
          "model_name": "ButtonModel",
          "model_module_version": "1.5.0",
          "state": {
            "_dom_classes": [
              "happy"
            ],
            "_model_module": "@jupyter-widgets/controls",
            "_model_module_version": "1.5.0",
            "_model_name": "ButtonModel",
            "_view_count": null,
            "_view_module": "@jupyter-widgets/controls",
            "_view_module_version": "1.5.0",
            "_view_name": "ButtonView",
            "button_style": "",
            "description": "🙂",
            "disabled": false,
            "icon": "",
            "layout": "IPY_MODEL_38719e20784f47669aad226a98380d9f",
            "style": "IPY_MODEL_ce60eb2a570d4dfeba29ec2441e1b334",
            "tooltip": "happy"
          }
        },
        "089d0e5785794cdd87ab2d10e68fea8d": {
          "model_module": "@jupyter-widgets/controls",
          "model_name": "ButtonModel",
          "model_module_version": "1.5.0",
          "state": {
            "_dom_classes": [
              "medium"
            ],
            "_model_module": "@jupyter-widgets/controls",
            "_model_module_version": "1.5.0",
            "_model_name": "ButtonModel",
            "_view_count": null,
            "_view_module": "@jupyter-widgets/controls",
            "_view_module_version": "1.5.0",
            "_view_name": "ButtonView",
            "button_style": "",
            "description": "😐",
            "disabled": false,
            "icon": "",
            "layout": "IPY_MODEL_d80d07c1661548dbbb0f28db80dcd262",
            "style": "IPY_MODEL_b9d63e8feb9e4213bebe69ed1afa656c",
            "tooltip": "medium"
          }
        },
        "3e7fb9ddc6df4a8ebb9eb98f5551576a": {
          "model_module": "@jupyter-widgets/controls",
          "model_name": "ButtonModel",
          "model_module_version": "1.5.0",
          "state": {
            "_dom_classes": [
              "sad"
            ],
            "_model_module": "@jupyter-widgets/controls",
            "_model_module_version": "1.5.0",
            "_model_name": "ButtonModel",
            "_view_count": null,
            "_view_module": "@jupyter-widgets/controls",
            "_view_module_version": "1.5.0",
            "_view_name": "ButtonView",
            "button_style": "",
            "description": "🙁",
            "disabled": false,
            "icon": "",
            "layout": "IPY_MODEL_8231f2c26b9a40988d2eace47b34e224",
            "style": "IPY_MODEL_1107337572704316913a505ecd217083",
            "tooltip": "sad"
          }
        },
        "a5c4f89e8fe641eabb8791dbda0198af": {
          "model_module": "@jupyter-widgets/base",
          "model_name": "LayoutModel",
          "model_module_version": "1.2.0",
          "state": {
            "_model_module": "@jupyter-widgets/base",
            "_model_module_version": "1.2.0",
            "_model_name": "LayoutModel",
            "_view_count": null,
            "_view_module": "@jupyter-widgets/base",
            "_view_module_version": "1.2.0",
            "_view_name": "LayoutView",
            "align_content": null,
            "align_items": null,
            "align_self": null,
            "border": null,
            "bottom": null,
            "display": null,
            "flex": null,
            "flex_flow": null,
            "grid_area": null,
            "grid_auto_columns": null,
            "grid_auto_flow": null,
            "grid_auto_rows": null,
            "grid_column": null,
            "grid_gap": null,
            "grid_row": null,
            "grid_template_areas": null,
            "grid_template_columns": null,
            "grid_template_rows": null,
            "height": null,
            "justify_content": null,
            "justify_items": null,
            "left": null,
            "margin": null,
            "max_height": null,
            "max_width": null,
            "min_height": null,
            "min_width": null,
            "object_fit": null,
            "object_position": null,
            "order": null,
            "overflow": null,
            "overflow_x": null,
            "overflow_y": null,
            "padding": null,
            "right": null,
            "top": null,
            "visibility": null,
            "width": null
          }
        },
        "ba0caf9628af4ca8b4b58e89beaa9129": {
          "model_module": "@jupyter-widgets/controls",
          "model_name": "TextareaModel",
          "model_module_version": "1.5.0",
          "state": {
            "_dom_classes": [],
            "_model_module": "@jupyter-widgets/controls",
            "_model_module_version": "1.5.0",
            "_model_name": "TextareaModel",
            "_view_count": null,
            "_view_module": "@jupyter-widgets/controls",
            "_view_module_version": "1.5.0",
            "_view_name": "TextareaView",
            "continuous_update": true,
            "description": "",
            "description_tooltip": null,
            "disabled": false,
            "layout": "IPY_MODEL_41864349db7c491a93bab49a23478315",
            "placeholder": "We want your feedback!",
            "rows": null,
            "style": "IPY_MODEL_76c50e9cd05942fabf775f0c3bd1cae4",
            "value": ""
          }
        },
        "6c6af1bb5a1a43ad8ab8daff4d05b88a": {
          "model_module": "@jupyter-widgets/controls",
          "model_name": "ButtonModel",
          "model_module_version": "1.5.0",
          "state": {
            "_dom_classes": [],
            "_model_module": "@jupyter-widgets/controls",
            "_model_module_version": "1.5.0",
            "_model_name": "ButtonModel",
            "_view_count": null,
            "_view_module": "@jupyter-widgets/controls",
            "_view_module_version": "1.5.0",
            "_view_name": "ButtonView",
            "button_style": "",
            "description": "Submit",
            "disabled": false,
            "icon": "",
            "layout": "IPY_MODEL_76d596ff37a647ed994b48abedb5e6e1",
            "style": "IPY_MODEL_69988bff90df4ad08a01b88731297205",
            "tooltip": ""
          }
        },
        "7401c1015806488f8b696a2f97f6aa4b": {
          "model_module": "@jupyter-widgets/base",
          "model_name": "LayoutModel",
          "model_module_version": "1.2.0",
          "state": {
            "_model_module": "@jupyter-widgets/base",
            "_model_module_version": "1.2.0",
            "_model_name": "LayoutModel",
            "_view_count": null,
            "_view_module": "@jupyter-widgets/base",
            "_view_module_version": "1.2.0",
            "_view_name": "LayoutView",
            "align_content": null,
            "align_items": null,
            "align_self": null,
            "border": null,
            "bottom": null,
            "display": "none",
            "flex": null,
            "flex_flow": null,
            "grid_area": null,
            "grid_auto_columns": null,
            "grid_auto_flow": null,
            "grid_auto_rows": null,
            "grid_column": null,
            "grid_gap": null,
            "grid_row": null,
            "grid_template_areas": null,
            "grid_template_columns": null,
            "grid_template_rows": null,
            "height": null,
            "justify_content": null,
            "justify_items": null,
            "left": null,
            "margin": null,
            "max_height": null,
            "max_width": null,
            "min_height": null,
            "min_width": null,
            "object_fit": null,
            "object_position": null,
            "order": null,
            "overflow": null,
            "overflow_x": null,
            "overflow_y": null,
            "padding": null,
            "right": null,
            "top": null,
            "visibility": null,
            "width": null
          }
        },
        "c0aab6c9c4ba4c6986fb3f317370c66e": {
          "model_module": "@jupyter-widgets/base",
          "model_name": "LayoutModel",
          "model_module_version": "1.2.0",
          "state": {
            "_model_module": "@jupyter-widgets/base",
            "_model_module_version": "1.2.0",
            "_model_name": "LayoutModel",
            "_view_count": null,
            "_view_module": "@jupyter-widgets/base",
            "_view_module_version": "1.2.0",
            "_view_name": "LayoutView",
            "align_content": null,
            "align_items": null,
            "align_self": null,
            "border": null,
            "bottom": null,
            "display": "none",
            "flex": null,
            "flex_flow": null,
            "grid_area": null,
            "grid_auto_columns": null,
            "grid_auto_flow": null,
            "grid_auto_rows": null,
            "grid_column": null,
            "grid_gap": null,
            "grid_row": null,
            "grid_template_areas": null,
            "grid_template_columns": null,
            "grid_template_rows": null,
            "height": null,
            "justify_content": null,
            "justify_items": null,
            "left": null,
            "margin": null,
            "max_height": null,
            "max_width": null,
            "min_height": null,
            "min_width": null,
            "object_fit": null,
            "object_position": null,
            "order": null,
            "overflow": null,
            "overflow_x": null,
            "overflow_y": null,
            "padding": null,
            "right": null,
            "top": null,
            "visibility": null,
            "width": null
          }
        },
        "49693cf4611c4925b7d8e0483ff886c1": {
          "model_module": "@jupyter-widgets/controls",
          "model_name": "DescriptionStyleModel",
          "model_module_version": "1.5.0",
          "state": {
            "_model_module": "@jupyter-widgets/controls",
            "_model_module_version": "1.5.0",
            "_model_name": "DescriptionStyleModel",
            "_view_count": null,
            "_view_module": "@jupyter-widgets/base",
            "_view_module_version": "1.2.0",
            "_view_name": "StyleView",
            "description_width": ""
          }
        },
        "38719e20784f47669aad226a98380d9f": {
          "model_module": "@jupyter-widgets/base",
          "model_name": "LayoutModel",
          "model_module_version": "1.2.0",
          "state": {
            "_model_module": "@jupyter-widgets/base",
            "_model_module_version": "1.2.0",
            "_model_name": "LayoutModel",
            "_view_count": null,
            "_view_module": "@jupyter-widgets/base",
            "_view_module_version": "1.2.0",
            "_view_name": "LayoutView",
            "align_content": null,
            "align_items": null,
            "align_self": null,
            "border": null,
            "bottom": null,
            "display": null,
            "flex": null,
            "flex_flow": null,
            "grid_area": null,
            "grid_auto_columns": null,
            "grid_auto_flow": null,
            "grid_auto_rows": null,
            "grid_column": null,
            "grid_gap": null,
            "grid_row": null,
            "grid_template_areas": null,
            "grid_template_columns": null,
            "grid_template_rows": null,
            "height": "auto",
            "justify_content": null,
            "justify_items": null,
            "left": null,
            "margin": null,
            "max_height": null,
            "max_width": null,
            "min_height": null,
            "min_width": null,
            "object_fit": null,
            "object_position": null,
            "order": null,
            "overflow": null,
            "overflow_x": null,
            "overflow_y": null,
            "padding": "0.5em",
            "right": null,
            "top": null,
            "visibility": null,
            "width": "auto"
          }
        },
        "ce60eb2a570d4dfeba29ec2441e1b334": {
          "model_module": "@jupyter-widgets/controls",
          "model_name": "ButtonStyleModel",
          "model_module_version": "1.5.0",
          "state": {
            "_model_module": "@jupyter-widgets/controls",
            "_model_module_version": "1.5.0",
            "_model_name": "ButtonStyleModel",
            "_view_count": null,
            "_view_module": "@jupyter-widgets/base",
            "_view_module_version": "1.2.0",
            "_view_name": "StyleView",
            "button_color": "#aaffaa",
            "font_weight": ""
          }
        },
        "d80d07c1661548dbbb0f28db80dcd262": {
          "model_module": "@jupyter-widgets/base",
          "model_name": "LayoutModel",
          "model_module_version": "1.2.0",
          "state": {
            "_model_module": "@jupyter-widgets/base",
            "_model_module_version": "1.2.0",
            "_model_name": "LayoutModel",
            "_view_count": null,
            "_view_module": "@jupyter-widgets/base",
            "_view_module_version": "1.2.0",
            "_view_name": "LayoutView",
            "align_content": null,
            "align_items": null,
            "align_self": null,
            "border": null,
            "bottom": null,
            "display": null,
            "flex": null,
            "flex_flow": null,
            "grid_area": null,
            "grid_auto_columns": null,
            "grid_auto_flow": null,
            "grid_auto_rows": null,
            "grid_column": null,
            "grid_gap": null,
            "grid_row": null,
            "grid_template_areas": null,
            "grid_template_columns": null,
            "grid_template_rows": null,
            "height": "auto",
            "justify_content": null,
            "justify_items": null,
            "left": null,
            "margin": null,
            "max_height": null,
            "max_width": null,
            "min_height": null,
            "min_width": null,
            "object_fit": null,
            "object_position": null,
            "order": null,
            "overflow": null,
            "overflow_x": null,
            "overflow_y": null,
            "padding": "0.5em",
            "right": null,
            "top": null,
            "visibility": null,
            "width": "auto"
          }
        },
        "b9d63e8feb9e4213bebe69ed1afa656c": {
          "model_module": "@jupyter-widgets/controls",
          "model_name": "ButtonStyleModel",
          "model_module_version": "1.5.0",
          "state": {
            "_model_module": "@jupyter-widgets/controls",
            "_model_module_version": "1.5.0",
            "_model_name": "ButtonStyleModel",
            "_view_count": null,
            "_view_module": "@jupyter-widgets/base",
            "_view_module_version": "1.2.0",
            "_view_name": "StyleView",
            "button_color": "#dddd77",
            "font_weight": ""
          }
        },
        "8231f2c26b9a40988d2eace47b34e224": {
          "model_module": "@jupyter-widgets/base",
          "model_name": "LayoutModel",
          "model_module_version": "1.2.0",
          "state": {
            "_model_module": "@jupyter-widgets/base",
            "_model_module_version": "1.2.0",
            "_model_name": "LayoutModel",
            "_view_count": null,
            "_view_module": "@jupyter-widgets/base",
            "_view_module_version": "1.2.0",
            "_view_name": "LayoutView",
            "align_content": null,
            "align_items": null,
            "align_self": null,
            "border": null,
            "bottom": null,
            "display": null,
            "flex": null,
            "flex_flow": null,
            "grid_area": null,
            "grid_auto_columns": null,
            "grid_auto_flow": null,
            "grid_auto_rows": null,
            "grid_column": null,
            "grid_gap": null,
            "grid_row": null,
            "grid_template_areas": null,
            "grid_template_columns": null,
            "grid_template_rows": null,
            "height": "auto",
            "justify_content": null,
            "justify_items": null,
            "left": null,
            "margin": null,
            "max_height": null,
            "max_width": null,
            "min_height": null,
            "min_width": null,
            "object_fit": null,
            "object_position": null,
            "order": null,
            "overflow": null,
            "overflow_x": null,
            "overflow_y": null,
            "padding": "0.5em",
            "right": null,
            "top": null,
            "visibility": null,
            "width": "auto"
          }
        },
        "1107337572704316913a505ecd217083": {
          "model_module": "@jupyter-widgets/controls",
          "model_name": "ButtonStyleModel",
          "model_module_version": "1.5.0",
          "state": {
            "_model_module": "@jupyter-widgets/controls",
            "_model_module_version": "1.5.0",
            "_model_name": "ButtonStyleModel",
            "_view_count": null,
            "_view_module": "@jupyter-widgets/base",
            "_view_module_version": "1.2.0",
            "_view_name": "StyleView",
            "button_color": "#ffaaaa",
            "font_weight": ""
          }
        },
        "41864349db7c491a93bab49a23478315": {
          "model_module": "@jupyter-widgets/base",
          "model_name": "LayoutModel",
          "model_module_version": "1.2.0",
          "state": {
            "_model_module": "@jupyter-widgets/base",
            "_model_module_version": "1.2.0",
            "_model_name": "LayoutModel",
            "_view_count": null,
            "_view_module": "@jupyter-widgets/base",
            "_view_module_version": "1.2.0",
            "_view_name": "LayoutView",
            "align_content": null,
            "align_items": null,
            "align_self": null,
            "border": null,
            "bottom": null,
            "display": null,
            "flex": null,
            "flex_flow": null,
            "grid_area": null,
            "grid_auto_columns": null,
            "grid_auto_flow": null,
            "grid_auto_rows": null,
            "grid_column": null,
            "grid_gap": null,
            "grid_row": null,
            "grid_template_areas": null,
            "grid_template_columns": null,
            "grid_template_rows": null,
            "height": "auto",
            "justify_content": null,
            "justify_items": null,
            "left": null,
            "margin": null,
            "max_height": null,
            "max_width": null,
            "min_height": null,
            "min_width": null,
            "object_fit": null,
            "object_position": null,
            "order": null,
            "overflow": null,
            "overflow_x": null,
            "overflow_y": null,
            "padding": null,
            "right": null,
            "top": null,
            "visibility": null,
            "width": "auto"
          }
        },
        "76c50e9cd05942fabf775f0c3bd1cae4": {
          "model_module": "@jupyter-widgets/controls",
          "model_name": "DescriptionStyleModel",
          "model_module_version": "1.5.0",
          "state": {
            "_model_module": "@jupyter-widgets/controls",
            "_model_module_version": "1.5.0",
            "_model_name": "DescriptionStyleModel",
            "_view_count": null,
            "_view_module": "@jupyter-widgets/base",
            "_view_module_version": "1.2.0",
            "_view_name": "StyleView",
            "description_width": ""
          }
        },
        "76d596ff37a647ed994b48abedb5e6e1": {
          "model_module": "@jupyter-widgets/base",
          "model_name": "LayoutModel",
          "model_module_version": "1.2.0",
          "state": {
            "_model_module": "@jupyter-widgets/base",
            "_model_module_version": "1.2.0",
            "_model_name": "LayoutModel",
            "_view_count": null,
            "_view_module": "@jupyter-widgets/base",
            "_view_module_version": "1.2.0",
            "_view_name": "LayoutView",
            "align_content": null,
            "align_items": null,
            "align_self": null,
            "border": null,
            "bottom": null,
            "display": null,
            "flex": null,
            "flex_flow": null,
            "grid_area": null,
            "grid_auto_columns": null,
            "grid_auto_flow": null,
            "grid_auto_rows": null,
            "grid_column": null,
            "grid_gap": null,
            "grid_row": null,
            "grid_template_areas": null,
            "grid_template_columns": null,
            "grid_template_rows": null,
            "height": "auto",
            "justify_content": null,
            "justify_items": null,
            "left": null,
            "margin": null,
            "max_height": null,
            "max_width": null,
            "min_height": null,
            "min_width": null,
            "object_fit": null,
            "object_position": null,
            "order": null,
            "overflow": null,
            "overflow_x": null,
            "overflow_y": null,
            "padding": null,
            "right": null,
            "top": null,
            "visibility": null,
            "width": "auto"
          }
        },
        "69988bff90df4ad08a01b88731297205": {
          "model_module": "@jupyter-widgets/controls",
          "model_name": "ButtonStyleModel",
          "model_module_version": "1.5.0",
          "state": {
            "_model_module": "@jupyter-widgets/controls",
            "_model_module_version": "1.5.0",
            "_model_name": "ButtonStyleModel",
            "_view_count": null,
            "_view_module": "@jupyter-widgets/base",
            "_view_module_version": "1.2.0",
            "_view_name": "StyleView",
            "button_color": null,
            "font_weight": ""
          }
        }
      }
    }
  },
  "nbformat": 4,
  "nbformat_minor": 0
}